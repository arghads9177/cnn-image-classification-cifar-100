{
  "nbformat": 4,
  "nbformat_minor": 0,
  "metadata": {
    "colab": {
      "provenance": [],
      "gpuType": "T4",
      "authorship_tag": "ABX9TyPyZFyhz/SD5kxwxHRlPxnZ",
      "include_colab_link": true
    },
    "kernelspec": {
      "name": "python3",
      "display_name": "Python 3"
    },
    "language_info": {
      "name": "python"
    },
    "accelerator": "GPU"
  },
  "cells": [
    {
      "cell_type": "markdown",
      "metadata": {
        "id": "view-in-github",
        "colab_type": "text"
      },
      "source": [
        "<a href=\"https://colab.research.google.com/github/arghads9177/cnn-image-classification-cifar-100/blob/master/CNN_CIFAR_100.ipynb\" target=\"_parent\"><img src=\"https://colab.research.google.com/assets/colab-badge.svg\" alt=\"Open In Colab\"/></a>"
      ]
    },
    {
      "cell_type": "markdown",
      "source": [
        "# **Image Classification with CIFAR-100 Dataset**\n",
        "\n",
        "## Project Overview  \n",
        "This project focuses on building a robust image classification model using the **CIFAR-100 dataset**, a challenging dataset designed for benchmarking image recognition algorithms. The dataset consists of small, labeled images grouped into 100 fine-grained classes and 20 coarse-grained superclasses.\n",
        "\n",
        "---\n",
        "\n",
        "## About the Dataset  \n",
        "\n",
        "### Dataset Description  \n",
        "The **CIFAR-100 dataset** consists of:  \n",
        "- **60,000 images** in total, with each image being **32x32 pixels** and in RGB format.  \n",
        "- **100 classes**, each containing **600 images**.  \n",
        "- Classes are grouped into **20 superclasses**, where each image has both a **fine label** (class) and a **coarse label** (superclass).  \n",
        "\n",
        "### Dataset Splits  \n",
        "- **Training Set:** 50,000 images (500 images per class).  \n",
        "- **Test Set:** 10,000 images (100 images per class).  \n",
        "\n",
        "### Superclass and Classes  \n",
        "Here is the list of superclasses and their associated classes:  \n",
        "\n",
        "| **Superclass**                   | **Classes**                                       |\n",
        "|-----------------------------------|--------------------------------------------------|\n",
        "| **Aquatic mammals**              | beaver, dolphin, otter, seal, whale              |\n",
        "| **Fish**                         | aquarium fish, flatfish, ray, shark, trout       |\n",
        "| **Flowers**                      | orchids, poppies, roses, sunflowers, tulips      |\n",
        "| **Food containers**              | bottles, bowls, cans, cups, plates              |\n",
        "| **Fruit and vegetables**         | apples, mushrooms, oranges, pears, sweet peppers|\n",
        "| **Household electrical devices** | clock, computer keyboard, lamp, telephone, TV    |\n",
        "| **Household furniture**          | bed, chair, couch, table, wardrobe               |\n",
        "| **Insects**                      | bee, beetle, butterfly, caterpillar, cockroach   |\n",
        "| **Large carnivores**             | bear, leopard, lion, tiger, wolf                 |\n",
        "| **Large man-made outdoor things**| bridge, castle, house, road, skyscraper          |\n",
        "| **Large natural outdoor scenes** | cloud, forest, mountain, plain, sea              |\n",
        "| **Large omnivores and herbivores**| camel, cattle, chimpanzee, elephant, kangaroo    |\n",
        "| **Medium-sized mammals**         | fox, porcupine, possum, raccoon, skunk           |\n",
        "| **Non-insect invertebrates**     | crab, lobster, snail, spider, worm               |\n",
        "| **People**                       | baby, boy, girl, man, woman                      |\n",
        "| **Reptiles**                     | crocodile, dinosaur, lizard, snake, turtle       |\n",
        "| **Small mammals**                | hamster, mouse, rabbit, shrew, squirrel          |\n",
        "| **Trees**                        | maple, oak, palm, pine, willow                   |\n",
        "| **Vehicles 1**                   | bicycle, bus, motorcycle, pickup truck, train    |\n",
        "| **Vehicles 2**                   | lawn-mower, rocket, streetcar, tank, tractor     |\n",
        "\n",
        "---\n",
        "\n",
        "## Objectives  \n",
        "\n",
        "1. **Image Classification:**  \n",
        "   - Develop a model to classify images into one of the 100 fine-grained classes.  \n",
        "\n",
        "2. **Multi-Level Classification:**  \n",
        "   - Explore hierarchical classification using coarse labels (20 superclasses) and fine labels (100 classes).  \n",
        "\n",
        "3. **Evaluation:**  \n",
        "   - Analyze model performance using class-specific and overall metrics.  \n",
        "\n",
        "4. **Data Augmentation:**  \n",
        "   - Leverage augmentation techniques to improve generalization on unseen data.  \n",
        "\n",
        "---\n",
        "\n",
        "## Methodology  \n",
        "\n",
        "### 1. **Data Preprocessing and Exploration**  \n",
        "   - **Visualization:** Display example images from each class and superclass.  \n",
        "   - **Normalization:** Scale pixel values to [0, 1] for faster convergence.  \n",
        "   - **Data Augmentation:** Apply transformations like flipping, cropping, rotation, and color jitter.  \n",
        "\n",
        "### 2. **Model Development**  \n",
        "   - **Baseline Model:** Start with a simple Convolutional Neural Network (CNN).  \n",
        "   - **Advanced Architectures:** Experiment with state-of-the-art architectures like ResNet, DenseNet, or Vision Transformers.  \n",
        "   - **Transfer Learning:** Use pre-trained models to enhance classification accuracy.  \n",
        "\n",
        "### 3. **Training and Optimization**  \n",
        "   - Loss Function: **Cross-Entropy Loss**  \n",
        "   - Optimizer: **Adam**, **SGD** with momentum  \n",
        "   - Techniques: Learning rate scheduling, early stopping, and batch normalization.  \n",
        "\n",
        "### 4. **Evaluation and Insights**  \n",
        "   - Evaluate model accuracy and F1-score for fine and coarse labels.  \n",
        "   - Plot confusion matrices to identify misclassifications.  \n",
        "   - Visualize training and validation loss/accuracy trends.  \n",
        "\n",
        "---\n",
        "\n",
        "## Tools and Libraries  \n",
        "\n",
        "- **Frameworks:** TensorFlow, Keras, PyTorch  \n",
        "- **Data Handling:** NumPy, pandas  \n",
        "- **Visualization:** Matplotlib, seaborn  \n",
        "- **Environment:** Jupyter Notebook, Google Colab  \n",
        "\n",
        "---\n",
        "\n",
        "## Applications  \n",
        "\n",
        "1. **Object Recognition:**  \n",
        "   - Train models for multi-class object recognition in real-world scenarios.  \n",
        "\n",
        "2. **Educational Benchmark:**  \n",
        "   - Use the CIFAR-100 dataset as a benchmark for learning advanced deep learning techniques.  \n",
        "\n",
        "3. **Hierarchical Classification:**  \n",
        "   - Study hierarchical relationships between fine and coarse labels for real-world tasks.  \n",
        "\n",
        "4. **Transfer Learning:**  \n",
        "   - Fine-tune models trained on CIFAR-100 for domain-specific datasets.  \n",
        "\n",
        "---\n",
        "\n",
        "## Dataset Information  \n",
        "\n",
        "- **Name:** CIFAR-100 Dataset  \n",
        "- **Size:** ~175 MB  \n",
        "- **Format:** Binary (easily convertible to other formats)  \n",
        "- **Source:** [CIFAR-100 Dataset](https://www.cs.toronto.edu/~kriz/cifar.html)  \n",
        "\n",
        "---\n",
        "\n",
        "## Future Enhancements  \n",
        "\n",
        "1. **Model Deployment:**  \n",
        "   - Deploy the model using web frameworks like Flask or FastAPI for real-time predictions.  \n",
        "\n",
        "2. **Explainability:**  \n",
        "   - Use Grad-CAM or similar tools to visualize model focus areas.  \n",
        "\n",
        "3. **Performance Tuning:**  \n",
        "   - Explore ensemble methods or fine-tune hyperparameters for enhanced performance.  \n",
        "\n",
        "---\n",
        "\n",
        "## Conclusion  \n",
        "\n",
        "The CIFAR-100 dataset provides a challenging yet rewarding platform for developing advanced image classification models. By leveraging its hierarchical structure and diverse categories, this project not only aims to achieve high classification accuracy but also provides insights into multi-level classification strategies.  \n",
        "\n",
        "**Happy Coding!**  \n"
      ],
      "metadata": {
        "id": "mMfzhEQIukxm"
      }
    },
    {
      "cell_type": "markdown",
      "source": [
        "### Import Libraries"
      ],
      "metadata": {
        "id": "6w4aXTlPjXwp"
      }
    },
    {
      "cell_type": "code",
      "execution_count": 12,
      "metadata": {
        "id": "5BAMtAdcjE2b"
      },
      "outputs": [],
      "source": [
        "import tensorflow as tf\n",
        "from tensorflow.keras import datasets, layers, models\n",
        "import matplotlib.pyplot as plt\n",
        "import numpy as np\n",
        "from sklearn.metrics import classification_report, confusion_matrix\n",
        "import seaborn as sns\n",
        "import warnings\n",
        "from tensorflow.keras.preprocessing.image import ImageDataGenerator\n",
        "from tensorflow.keras.applications import ResNet50\n",
        "from tensorflow.keras.optimizers import Adam"
      ]
    },
    {
      "cell_type": "markdown",
      "source": [
        "### Settings"
      ],
      "metadata": {
        "id": "6k1rDClijcNK"
      }
    },
    {
      "cell_type": "code",
      "source": [
        "warnings.filterwarnings(\"ignore\")\n",
        "sns.set_style(\"darkgrid\")"
      ],
      "metadata": {
        "id": "AR2RYLpEjbqu"
      },
      "execution_count": 2,
      "outputs": []
    },
    {
      "cell_type": "markdown",
      "source": [
        "### Load Dataset"
      ],
      "metadata": {
        "id": "pIvRiq8-jlIx"
      }
    },
    {
      "cell_type": "code",
      "source": [
        "# Load CIFAR-100 dataset\n",
        "(X_train, y_train), (X_test, y_test) = datasets.cifar100.load_data(label_mode='fine')"
      ],
      "metadata": {
        "id": "Mzht_r33joFT"
      },
      "execution_count": 3,
      "outputs": []
    },
    {
      "cell_type": "code",
      "source": [
        "# Data insights\n",
        "print(f\"Training data shape: {X_train.shape}, Training labels shape: {y_train.shape}\")\n",
        "print(f\"Test data shape: {X_test.shape}, Test labels shape: {y_test.shape}\")"
      ],
      "metadata": {
        "colab": {
          "base_uri": "https://localhost:8080/"
        },
        "id": "TfUk4izNjqEQ",
        "outputId": "b007b41a-eeeb-4f70-87a4-55c835f1dde3"
      },
      "execution_count": 4,
      "outputs": [
        {
          "output_type": "stream",
          "name": "stdout",
          "text": [
            "Training data shape: (50000, 32, 32, 3), Training labels shape: (50000, 1)\n",
            "Test data shape: (10000, 32, 32, 3), Test labels shape: (10000, 1)\n"
          ]
        }
      ]
    },
    {
      "cell_type": "code",
      "source": [
        "# CIFAR-100 class names (manually defined as per the dataset documentation)\n",
        "class_names = [\n",
        "    'apple', 'aquarium_fish', 'baby', 'bear', 'beaver', 'bed', 'bee', 'beetle',\n",
        "    'bicycle', 'bottle', 'bowl', 'boy', 'bridge', 'bus', 'butterfly', 'camel',\n",
        "    'can', 'castle', 'caterpillar', 'cattle', 'chair', 'chimpanzee', 'clock',\n",
        "    'cloud', 'cockroach', 'couch', 'crab', 'crocodile', 'cup', 'dinosaur', 'dolphin',\n",
        "    'elephant', 'flatfish', 'forest', 'fox', 'girl', 'hamster', 'house', 'kangaroo',\n",
        "    'keyboard', 'lamp', 'lawn_mower', 'leopard', 'lion', 'lizard', 'lobster',\n",
        "    'man', 'maple_tree', 'motorcycle', 'mountain', 'mouse', 'mushroom', 'oak_tree',\n",
        "    'orange', 'orchid', 'otter', 'palm_tree', 'pear', 'pickup_truck', 'pine_tree',\n",
        "    'plain', 'plate', 'poppy', 'porcupine', 'possum', 'rabbit', 'raccoon', 'ray',\n",
        "    'road', 'rocket', 'rose', 'sea', 'seal', 'shark', 'shrew', 'skunk', 'skyscraper',\n",
        "    'snail', 'snake', 'spider', 'squirrel', 'streetcar', 'sunflower', 'sweet_pepper',\n",
        "    'table', 'tank', 'telephone', 'television', 'tiger', 'tractor', 'train', 'trout',\n",
        "    'tulip', 'turtle', 'wardrobe', 'whale', 'willow_tree', 'wolf', 'woman', 'worm'\n",
        "]\n"
      ],
      "metadata": {
        "id": "hzv_m6YLjy14"
      },
      "execution_count": 5,
      "outputs": []
    },
    {
      "cell_type": "markdown",
      "source": [
        "### Preprocessing Images"
      ],
      "metadata": {
        "id": "yLZaMVczslE1"
      }
    },
    {
      "cell_type": "code",
      "source": [
        "# Normalize the images\n",
        "X_train = X_train / 255.0\n",
        "X_test = X_test / 255.0\n",
        "\n",
        "# Convert labels to one-hot encoding\n",
        "y_train = tf.keras.utils.to_categorical(y_train, 100)\n",
        "y_test = tf.keras.utils.to_categorical(y_test, 100)\n"
      ],
      "metadata": {
        "id": "P41rbtUNn7Ip"
      },
      "execution_count": 6,
      "outputs": []
    },
    {
      "cell_type": "code",
      "source": [
        "fig, axes = plt.subplots(1, 5, figsize=(5, 2))\n",
        "for i in range(5):\n",
        "    axes[i].imshow(X_train[i])\n",
        "    axes[i].set_title(class_names[np.argmax(y_train[i])])\n",
        "    axes[i].axis('off')\n",
        "plt.show()"
      ],
      "metadata": {
        "colab": {
          "base_uri": "https://localhost:8080/",
          "height": 126
        },
        "id": "TALMjWUWui3K",
        "outputId": "14b20767-efab-4658-ad36-d60b8f1e2254"
      },
      "execution_count": 7,
      "outputs": [
        {
          "output_type": "display_data",
          "data": {
            "text/plain": [
              "<Figure size 500x200 with 5 Axes>"
            ],
            "image/png": "[encoded data removed]"
          },
          "metadata": {}
        }
      ]
    },
    {
      "cell_type": "markdown",
      "source": [
        "### Constructing the CNN Model\n",
        "\n",
        "The key parameters for the model are,\n",
        "\n",
        "- **Learning Rate:** 0.001\n",
        "- **Optimizer:** Adam\n",
        "- **Batch Size:**- 64\n",
        "- **Activation Function:** ReLU\n",
        "- **Loss Function:** Categorical Crossentropy"
      ],
      "metadata": {
        "id": "Dh4FSrJUu-Z-"
      }
    },
    {
      "cell_type": "code",
      "source": [
        "model = models.Sequential([\n",
        "    layers.Conv2D(32, (3, 3), activation='relu', input_shape=(32, 32, 3)),\n",
        "    layers.MaxPooling2D((2, 2)),\n",
        "\n",
        "    layers.Conv2D(64, (3, 3), activation='relu', padding='same'),\n",
        "    layers.MaxPooling2D((2, 2)),\n",
        "\n",
        "    layers.Conv2D(128, (3, 3), activation='relu', padding='same'),\n",
        "    layers.MaxPooling2D((2, 2)),\n",
        "\n",
        "    layers.Conv2D(256, (3, 3), activation='relu', padding='same'),\n",
        "    layers.GlobalAveragePooling2D(),\n",
        "\n",
        "    layers.Dense(256, activation='relu'),\n",
        "    layers.Dropout(0.5),\n",
        "    layers.Dense(100, activation='softmax')  # Output layer with 100 classes\n",
        "])\n",
        "\n",
        "# Compile the model\n",
        "model.compile(optimizer='adam',\n",
        "              loss='categorical_crossentropy',\n",
        "              metrics=['accuracy'])\n",
        "\n",
        "# Display the model summary\n",
        "model.summary()\n"
      ],
      "metadata": {
        "colab": {
          "base_uri": "https://localhost:8080/",
          "height": 517
        },
        "id": "QSvIJpWFutyI",
        "outputId": "9a20abd1-4091-4874-bc46-7fe8995e6cfe"
      },
      "execution_count": 8,
      "outputs": [
        {
          "output_type": "display_data",
          "data": {
            "text/plain": [
              "\u001b[1mModel: \"sequential\"\u001b[0m\n"
            ],
            "text/html": [
              "<pre style=\"white-space:pre;overflow-x:auto;line-height:normal;font-family:Menlo,'DejaVu Sans Mono',consolas,'Courier New',monospace\"><span style=\"font-weight: bold\">Model: \"sequential\"</span>\n",
              "</pre>\n"
            ]
          },
          "metadata": {}
        },
        {
          "output_type": "display_data",
          "data": {
            "text/plain": [
              "┏━━━━━━━━━━━━━━━━━━━━━━━━━━━━━━━━━━━━━━┳━━━━━━━━━━━━━━━━━━━━━━━━━━━━━┳━━━━━━━━━━━━━━━━━┓\n",
              "┃\u001b[1m \u001b[0m\u001b[1mLayer (type)                        \u001b[0m\u001b[1m \u001b[0m┃\u001b[1m \u001b[0m\u001b[1mOutput Shape               \u001b[0m\u001b[1m \u001b[0m┃\u001b[1m \u001b[0m\u001b[1m        Param #\u001b[0m\u001b[1m \u001b[0m┃\n",
              "┡━━━━━━━━━━━━━━━━━━━━━━━━━━━━━━━━━━━━━━╇━━━━━━━━━━━━━━━━━━━━━━━━━━━━━╇━━━━━━━━━━━━━━━━━┩\n",
              "│ conv2d (\u001b[38;5;33mConv2D\u001b[0m)                      │ (\u001b[38;5;45mNone\u001b[0m, \u001b[38;5;34m30\u001b[0m, \u001b[38;5;34m30\u001b[0m, \u001b[38;5;34m32\u001b[0m)          │             \u001b[38;5;34m896\u001b[0m │\n",
              "├──────────────────────────────────────┼─────────────────────────────┼─────────────────┤\n",
              "│ max_pooling2d (\u001b[38;5;33mMaxPooling2D\u001b[0m)         │ (\u001b[38;5;45mNone\u001b[0m, \u001b[38;5;34m15\u001b[0m, \u001b[38;5;34m15\u001b[0m, \u001b[38;5;34m32\u001b[0m)          │               \u001b[38;5;34m0\u001b[0m │\n",
              "├──────────────────────────────────────┼─────────────────────────────┼─────────────────┤\n",
              "│ conv2d_1 (\u001b[38;5;33mConv2D\u001b[0m)                    │ (\u001b[38;5;45mNone\u001b[0m, \u001b[38;5;34m15\u001b[0m, \u001b[38;5;34m15\u001b[0m, \u001b[38;5;34m64\u001b[0m)          │          \u001b[38;5;34m18,496\u001b[0m │\n",
              "├──────────────────────────────────────┼─────────────────────────────┼─────────────────┤\n",
              "│ max_pooling2d_1 (\u001b[38;5;33mMaxPooling2D\u001b[0m)       │ (\u001b[38;5;45mNone\u001b[0m, \u001b[38;5;34m7\u001b[0m, \u001b[38;5;34m7\u001b[0m, \u001b[38;5;34m64\u001b[0m)            │               \u001b[38;5;34m0\u001b[0m │\n",
              "├──────────────────────────────────────┼─────────────────────────────┼─────────────────┤\n",
              "│ conv2d_2 (\u001b[38;5;33mConv2D\u001b[0m)                    │ (\u001b[38;5;45mNone\u001b[0m, \u001b[38;5;34m7\u001b[0m, \u001b[38;5;34m7\u001b[0m, \u001b[38;5;34m128\u001b[0m)           │          \u001b[38;5;34m73,856\u001b[0m │\n",
              "├──────────────────────────────────────┼─────────────────────────────┼─────────────────┤\n",
              "│ max_pooling2d_2 (\u001b[38;5;33mMaxPooling2D\u001b[0m)       │ (\u001b[38;5;45mNone\u001b[0m, \u001b[38;5;34m3\u001b[0m, \u001b[38;5;34m3\u001b[0m, \u001b[38;5;34m128\u001b[0m)           │               \u001b[38;5;34m0\u001b[0m │\n",
              "├──────────────────────────────────────┼─────────────────────────────┼─────────────────┤\n",
              "│ conv2d_3 (\u001b[38;5;33mConv2D\u001b[0m)                    │ (\u001b[38;5;45mNone\u001b[0m, \u001b[38;5;34m3\u001b[0m, \u001b[38;5;34m3\u001b[0m, \u001b[38;5;34m256\u001b[0m)           │         \u001b[38;5;34m295,168\u001b[0m │\n",
              "├──────────────────────────────────────┼─────────────────────────────┼─────────────────┤\n",
              "│ global_average_pooling2d             │ (\u001b[38;5;45mNone\u001b[0m, \u001b[38;5;34m256\u001b[0m)                 │               \u001b[38;5;34m0\u001b[0m │\n",
              "│ (\u001b[38;5;33mGlobalAveragePooling2D\u001b[0m)             │                             │                 │\n",
              "├──────────────────────────────────────┼─────────────────────────────┼─────────────────┤\n",
              "│ dense (\u001b[38;5;33mDense\u001b[0m)                        │ (\u001b[38;5;45mNone\u001b[0m, \u001b[38;5;34m256\u001b[0m)                 │          \u001b[38;5;34m65,792\u001b[0m │\n",
              "├──────────────────────────────────────┼─────────────────────────────┼─────────────────┤\n",
              "│ dropout (\u001b[38;5;33mDropout\u001b[0m)                    │ (\u001b[38;5;45mNone\u001b[0m, \u001b[38;5;34m256\u001b[0m)                 │               \u001b[38;5;34m0\u001b[0m │\n",
              "├──────────────────────────────────────┼─────────────────────────────┼─────────────────┤\n",
              "│ dense_1 (\u001b[38;5;33mDense\u001b[0m)                      │ (\u001b[38;5;45mNone\u001b[0m, \u001b[38;5;34m100\u001b[0m)                 │          \u001b[38;5;34m25,700\u001b[0m │\n",
              "└──────────────────────────────────────┴─────────────────────────────┴─────────────────┘\n"
            ],
            "text/html": [
              "<pre style=\"white-space:pre;overflow-x:auto;line-height:normal;font-family:Menlo,'DejaVu Sans Mono',consolas,'Courier New',monospace\">┏━━━━━━━━━━━━━━━━━━━━━━━━━━━━━━━━━━━━━━┳━━━━━━━━━━━━━━━━━━━━━━━━━━━━━┳━━━━━━━━━━━━━━━━━┓\n",
              "┃<span style=\"font-weight: bold\"> Layer (type)                         </span>┃<span style=\"font-weight: bold\"> Output Shape                </span>┃<span style=\"font-weight: bold\">         Param # </span>┃\n",
              "┡━━━━━━━━━━━━━━━━━━━━━━━━━━━━━━━━━━━━━━╇━━━━━━━━━━━━━━━━━━━━━━━━━━━━━╇━━━━━━━━━━━━━━━━━┩\n",
              "│ conv2d (<span style=\"color: #0087ff; text-decoration-color: #0087ff\">Conv2D</span>)                      │ (<span style=\"color: #00d7ff; text-decoration-color: #00d7ff\">None</span>, <span style=\"color: #00af00; text-decoration-color: #00af00\">30</span>, <span style=\"color: #00af00; text-decoration-color: #00af00\">30</span>, <span style=\"color: #00af00; text-decoration-color: #00af00\">32</span>)          │             <span style=\"color: #00af00; text-decoration-color: #00af00\">896</span> │\n",
              "├──────────────────────────────────────┼─────────────────────────────┼─────────────────┤\n",
              "│ max_pooling2d (<span style=\"color: #0087ff; text-decoration-color: #0087ff\">MaxPooling2D</span>)         │ (<span style=\"color: #00d7ff; text-decoration-color: #00d7ff\">None</span>, <span style=\"color: #00af00; text-decoration-color: #00af00\">15</span>, <span style=\"color: #00af00; text-decoration-color: #00af00\">15</span>, <span style=\"color: #00af00; text-decoration-color: #00af00\">32</span>)          │               <span style=\"color: #00af00; text-decoration-color: #00af00\">0</span> │\n",
              "├──────────────────────────────────────┼─────────────────────────────┼─────────────────┤\n",
              "│ conv2d_1 (<span style=\"color: #0087ff; text-decoration-color: #0087ff\">Conv2D</span>)                    │ (<span style=\"color: #00d7ff; text-decoration-color: #00d7ff\">None</span>, <span style=\"color: #00af00; text-decoration-color: #00af00\">15</span>, <span style=\"color: #00af00; text-decoration-color: #00af00\">15</span>, <span style=\"color: #00af00; text-decoration-color: #00af00\">64</span>)          │          <span style=\"color: #00af00; text-decoration-color: #00af00\">18,496</span> │\n",
              "├──────────────────────────────────────┼─────────────────────────────┼─────────────────┤\n",
              "│ max_pooling2d_1 (<span style=\"color: #0087ff; text-decoration-color: #0087ff\">MaxPooling2D</span>)       │ (<span style=\"color: #00d7ff; text-decoration-color: #00d7ff\">None</span>, <span style=\"color: #00af00; text-decoration-color: #00af00\">7</span>, <span style=\"color: #00af00; text-decoration-color: #00af00\">7</span>, <span style=\"color: #00af00; text-decoration-color: #00af00\">64</span>)            │               <span style=\"color: #00af00; text-decoration-color: #00af00\">0</span> │\n",
              "├──────────────────────────────────────┼─────────────────────────────┼─────────────────┤\n",
              "│ conv2d_2 (<span style=\"color: #0087ff; text-decoration-color: #0087ff\">Conv2D</span>)                    │ (<span style=\"color: #00d7ff; text-decoration-color: #00d7ff\">None</span>, <span style=\"color: #00af00; text-decoration-color: #00af00\">7</span>, <span style=\"color: #00af00; text-decoration-color: #00af00\">7</span>, <span style=\"color: #00af00; text-decoration-color: #00af00\">128</span>)           │          <span style=\"color: #00af00; text-decoration-color: #00af00\">73,856</span> │\n",
              "├──────────────────────────────────────┼─────────────────────────────┼─────────────────┤\n",
              "│ max_pooling2d_2 (<span style=\"color: #0087ff; text-decoration-color: #0087ff\">MaxPooling2D</span>)       │ (<span style=\"color: #00d7ff; text-decoration-color: #00d7ff\">None</span>, <span style=\"color: #00af00; text-decoration-color: #00af00\">3</span>, <span style=\"color: #00af00; text-decoration-color: #00af00\">3</span>, <span style=\"color: #00af00; text-decoration-color: #00af00\">128</span>)           │               <span style=\"color: #00af00; text-decoration-color: #00af00\">0</span> │\n",
              "├──────────────────────────────────────┼─────────────────────────────┼─────────────────┤\n",
              "│ conv2d_3 (<span style=\"color: #0087ff; text-decoration-color: #0087ff\">Conv2D</span>)                    │ (<span style=\"color: #00d7ff; text-decoration-color: #00d7ff\">None</span>, <span style=\"color: #00af00; text-decoration-color: #00af00\">3</span>, <span style=\"color: #00af00; text-decoration-color: #00af00\">3</span>, <span style=\"color: #00af00; text-decoration-color: #00af00\">256</span>)           │         <span style=\"color: #00af00; text-decoration-color: #00af00\">295,168</span> │\n",
              "├──────────────────────────────────────┼─────────────────────────────┼─────────────────┤\n",
              "│ global_average_pooling2d             │ (<span style=\"color: #00d7ff; text-decoration-color: #00d7ff\">None</span>, <span style=\"color: #00af00; text-decoration-color: #00af00\">256</span>)                 │               <span style=\"color: #00af00; text-decoration-color: #00af00\">0</span> │\n",
              "│ (<span style=\"color: #0087ff; text-decoration-color: #0087ff\">GlobalAveragePooling2D</span>)             │                             │                 │\n",
              "├──────────────────────────────────────┼─────────────────────────────┼─────────────────┤\n",
              "│ dense (<span style=\"color: #0087ff; text-decoration-color: #0087ff\">Dense</span>)                        │ (<span style=\"color: #00d7ff; text-decoration-color: #00d7ff\">None</span>, <span style=\"color: #00af00; text-decoration-color: #00af00\">256</span>)                 │          <span style=\"color: #00af00; text-decoration-color: #00af00\">65,792</span> │\n",
              "├──────────────────────────────────────┼─────────────────────────────┼─────────────────┤\n",
              "│ dropout (<span style=\"color: #0087ff; text-decoration-color: #0087ff\">Dropout</span>)                    │ (<span style=\"color: #00d7ff; text-decoration-color: #00d7ff\">None</span>, <span style=\"color: #00af00; text-decoration-color: #00af00\">256</span>)                 │               <span style=\"color: #00af00; text-decoration-color: #00af00\">0</span> │\n",
              "├──────────────────────────────────────┼─────────────────────────────┼─────────────────┤\n",
              "│ dense_1 (<span style=\"color: #0087ff; text-decoration-color: #0087ff\">Dense</span>)                      │ (<span style=\"color: #00d7ff; text-decoration-color: #00d7ff\">None</span>, <span style=\"color: #00af00; text-decoration-color: #00af00\">100</span>)                 │          <span style=\"color: #00af00; text-decoration-color: #00af00\">25,700</span> │\n",
              "└──────────────────────────────────────┴─────────────────────────────┴─────────────────┘\n",
              "</pre>\n"
            ]
          },
          "metadata": {}
        },
        {
          "output_type": "display_data",
          "data": {
            "text/plain": [
              "\u001b[1m Total params: \u001b[0m\u001b[38;5;34m479,908\u001b[0m (1.83 MB)\n"
            ],
            "text/html": [
              "<pre style=\"white-space:pre;overflow-x:auto;line-height:normal;font-family:Menlo,'DejaVu Sans Mono',consolas,'Courier New',monospace\"><span style=\"font-weight: bold\"> Total params: </span><span style=\"color: #00af00; text-decoration-color: #00af00\">479,908</span> (1.83 MB)\n",
              "</pre>\n"
            ]
          },
          "metadata": {}
        },
        {
          "output_type": "display_data",
          "data": {
            "text/plain": [
              "\u001b[1m Trainable params: \u001b[0m\u001b[38;5;34m479,908\u001b[0m (1.83 MB)\n"
            ],
            "text/html": [
              "<pre style=\"white-space:pre;overflow-x:auto;line-height:normal;font-family:Menlo,'DejaVu Sans Mono',consolas,'Courier New',monospace\"><span style=\"font-weight: bold\"> Trainable params: </span><span style=\"color: #00af00; text-decoration-color: #00af00\">479,908</span> (1.83 MB)\n",
              "</pre>\n"
            ]
          },
          "metadata": {}
        },
        {
          "output_type": "display_data",
          "data": {
            "text/plain": [
              "\u001b[1m Non-trainable params: \u001b[0m\u001b[38;5;34m0\u001b[0m (0.00 B)\n"
            ],
            "text/html": [
              "<pre style=\"white-space:pre;overflow-x:auto;line-height:normal;font-family:Menlo,'DejaVu Sans Mono',consolas,'Courier New',monospace\"><span style=\"font-weight: bold\"> Non-trainable params: </span><span style=\"color: #00af00; text-decoration-color: #00af00\">0</span> (0.00 B)\n",
              "</pre>\n"
            ]
          },
          "metadata": {}
        }
      ]
    },
    {
      "cell_type": "markdown",
      "source": [
        "### Training and Validation"
      ],
      "metadata": {
        "id": "11Ss33zevWxp"
      }
    },
    {
      "cell_type": "code",
      "source": [
        "# Train and validate the model\n",
        "history = model.fit(X_train, y_train, epochs=25,\n",
        "                    batch_size=64,\n",
        "                    validation_data=(X_test, y_test))"
      ],
      "metadata": {
        "colab": {
          "base_uri": "https://localhost:8080/"
        },
        "id": "8dQz1xHEvJfs",
        "outputId": "97d3ee7a-2095-4806-deaf-1ffa52601fe8"
      },
      "execution_count": 9,
      "outputs": [
        {
          "output_type": "stream",
          "name": "stdout",
          "text": [
            "Epoch 1/25\n",
            "\u001b[1m782/782\u001b[0m \u001b[32m━━━━━━━━━━━━━━━━━━━━\u001b[0m\u001b[37m\u001b[0m \u001b[1m18s\u001b[0m 15ms/step - accuracy: 0.0283 - loss: 4.3733 - val_accuracy: 0.1015 - val_loss: 3.8251\n",
            "Epoch 2/25\n",
            "\u001b[1m782/782\u001b[0m \u001b[32m━━━━━━━━━━━━━━━━━━━━\u001b[0m\u001b[37m\u001b[0m \u001b[1m4s\u001b[0m 5ms/step - accuracy: 0.1073 - loss: 3.7548 - val_accuracy: 0.1859 - val_loss: 3.3409\n",
            "Epoch 3/25\n",
            "\u001b[1m782/782\u001b[0m \u001b[32m━━━━━━━━━━━━━━━━━━━━\u001b[0m\u001b[37m\u001b[0m \u001b[1m5s\u001b[0m 4ms/step - accuracy: 0.1767 - loss: 3.3615 - val_accuracy: 0.2461 - val_loss: 3.0444\n",
            "Epoch 4/25\n",
            "\u001b[1m782/782\u001b[0m \u001b[32m━━━━━━━━━━━━━━━━━━━━\u001b[0m\u001b[37m\u001b[0m \u001b[1m3s\u001b[0m 4ms/step - accuracy: 0.2367 - loss: 3.0684 - val_accuracy: 0.2899 - val_loss: 2.8129\n",
            "Epoch 5/25\n",
            "\u001b[1m782/782\u001b[0m \u001b[32m━━━━━━━━━━━━━━━━━━━━\u001b[0m\u001b[37m\u001b[0m \u001b[1m6s\u001b[0m 5ms/step - accuracy: 0.2783 - loss: 2.8515 - val_accuracy: 0.3114 - val_loss: 2.6940\n",
            "Epoch 6/25\n",
            "\u001b[1m782/782\u001b[0m \u001b[32m━━━━━━━━━━━━━━━━━━━━\u001b[0m\u001b[37m\u001b[0m \u001b[1m4s\u001b[0m 4ms/step - accuracy: 0.3169 - loss: 2.6600 - val_accuracy: 0.3350 - val_loss: 2.5982\n",
            "Epoch 7/25\n",
            "\u001b[1m782/782\u001b[0m \u001b[32m━━━━━━━━━━━━━━━━━━━━\u001b[0m\u001b[37m\u001b[0m \u001b[1m3s\u001b[0m 4ms/step - accuracy: 0.3464 - loss: 2.5234 - val_accuracy: 0.3668 - val_loss: 2.4543\n",
            "Epoch 8/25\n",
            "\u001b[1m782/782\u001b[0m \u001b[32m━━━━━━━━━━━━━━━━━━━━\u001b[0m\u001b[37m\u001b[0m \u001b[1m4s\u001b[0m 5ms/step - accuracy: 0.3745 - loss: 2.3754 - val_accuracy: 0.3828 - val_loss: 2.3758\n",
            "Epoch 9/25\n",
            "\u001b[1m782/782\u001b[0m \u001b[32m━━━━━━━━━━━━━━━━━━━━\u001b[0m\u001b[37m\u001b[0m \u001b[1m3s\u001b[0m 4ms/step - accuracy: 0.3982 - loss: 2.2699 - val_accuracy: 0.3797 - val_loss: 2.4145\n",
            "Epoch 10/25\n",
            "\u001b[1m782/782\u001b[0m \u001b[32m━━━━━━━━━━━━━━━━━━━━\u001b[0m\u001b[37m\u001b[0m \u001b[1m5s\u001b[0m 4ms/step - accuracy: 0.4231 - loss: 2.1673 - val_accuracy: 0.4032 - val_loss: 2.2981\n",
            "Epoch 11/25\n",
            "\u001b[1m782/782\u001b[0m \u001b[32m━━━━━━━━━━━━━━━━━━━━\u001b[0m\u001b[37m\u001b[0m \u001b[1m4s\u001b[0m 5ms/step - accuracy: 0.4439 - loss: 2.0690 - val_accuracy: 0.4013 - val_loss: 2.3061\n",
            "Epoch 12/25\n",
            "\u001b[1m782/782\u001b[0m \u001b[32m━━━━━━━━━━━━━━━━━━━━\u001b[0m\u001b[37m\u001b[0m \u001b[1m5s\u001b[0m 4ms/step - accuracy: 0.4631 - loss: 1.9685 - val_accuracy: 0.4241 - val_loss: 2.2242\n",
            "Epoch 13/25\n",
            "\u001b[1m782/782\u001b[0m \u001b[32m━━━━━━━━━━━━━━━━━━━━\u001b[0m\u001b[37m\u001b[0m \u001b[1m5s\u001b[0m 4ms/step - accuracy: 0.4826 - loss: 1.8700 - val_accuracy: 0.4234 - val_loss: 2.2279\n",
            "Epoch 14/25\n",
            "\u001b[1m782/782\u001b[0m \u001b[32m━━━━━━━━━━━━━━━━━━━━\u001b[0m\u001b[37m\u001b[0m \u001b[1m4s\u001b[0m 5ms/step - accuracy: 0.4968 - loss: 1.8013 - val_accuracy: 0.4299 - val_loss: 2.2218\n",
            "Epoch 15/25\n",
            "\u001b[1m782/782\u001b[0m \u001b[32m━━━━━━━━━━━━━━━━━━━━\u001b[0m\u001b[37m\u001b[0m \u001b[1m4s\u001b[0m 4ms/step - accuracy: 0.5172 - loss: 1.7242 - val_accuracy: 0.4351 - val_loss: 2.1942\n",
            "Epoch 16/25\n",
            "\u001b[1m782/782\u001b[0m \u001b[32m━━━━━━━━━━━━━━━━━━━━\u001b[0m\u001b[37m\u001b[0m \u001b[1m3s\u001b[0m 4ms/step - accuracy: 0.5407 - loss: 1.6341 - val_accuracy: 0.4285 - val_loss: 2.2795\n",
            "Epoch 17/25\n",
            "\u001b[1m782/782\u001b[0m \u001b[32m━━━━━━━━━━━━━━━━━━━━\u001b[0m\u001b[37m\u001b[0m \u001b[1m4s\u001b[0m 5ms/step - accuracy: 0.5533 - loss: 1.5558 - val_accuracy: 0.4379 - val_loss: 2.2720\n",
            "Epoch 18/25\n",
            "\u001b[1m782/782\u001b[0m \u001b[32m━━━━━━━━━━━━━━━━━━━━\u001b[0m\u001b[37m\u001b[0m \u001b[1m4s\u001b[0m 5ms/step - accuracy: 0.5721 - loss: 1.4767 - val_accuracy: 0.4324 - val_loss: 2.2912\n",
            "Epoch 19/25\n",
            "\u001b[1m782/782\u001b[0m \u001b[32m━━━━━━━━━━━━━━━━━━━━\u001b[0m\u001b[37m\u001b[0m \u001b[1m5s\u001b[0m 4ms/step - accuracy: 0.5897 - loss: 1.4104 - val_accuracy: 0.4264 - val_loss: 2.4350\n",
            "Epoch 20/25\n",
            "\u001b[1m782/782\u001b[0m \u001b[32m━━━━━━━━━━━━━━━━━━━━\u001b[0m\u001b[37m\u001b[0m \u001b[1m6s\u001b[0m 5ms/step - accuracy: 0.6026 - loss: 1.3446 - val_accuracy: 0.4340 - val_loss: 2.3742\n",
            "Epoch 21/25\n",
            "\u001b[1m782/782\u001b[0m \u001b[32m━━━━━━━━━━━━━━━━━━━━\u001b[0m\u001b[37m\u001b[0m \u001b[1m4s\u001b[0m 4ms/step - accuracy: 0.6188 - loss: 1.2781 - val_accuracy: 0.4360 - val_loss: 2.4467\n",
            "Epoch 22/25\n",
            "\u001b[1m782/782\u001b[0m \u001b[32m━━━━━━━━━━━━━━━━━━━━\u001b[0m\u001b[37m\u001b[0m \u001b[1m3s\u001b[0m 4ms/step - accuracy: 0.6392 - loss: 1.2043 - val_accuracy: 0.4327 - val_loss: 2.4692\n",
            "Epoch 23/25\n",
            "\u001b[1m782/782\u001b[0m \u001b[32m━━━━━━━━━━━━━━━━━━━━\u001b[0m\u001b[37m\u001b[0m \u001b[1m4s\u001b[0m 5ms/step - accuracy: 0.6525 - loss: 1.1558 - val_accuracy: 0.4400 - val_loss: 2.4670\n",
            "Epoch 24/25\n",
            "\u001b[1m782/782\u001b[0m \u001b[32m━━━━━━━━━━━━━━━━━━━━\u001b[0m\u001b[37m\u001b[0m \u001b[1m5s\u001b[0m 4ms/step - accuracy: 0.6670 - loss: 1.0917 - val_accuracy: 0.4315 - val_loss: 2.5641\n",
            "Epoch 25/25\n",
            "\u001b[1m782/782\u001b[0m \u001b[32m━━━━━━━━━━━━━━━━━━━━\u001b[0m\u001b[37m\u001b[0m \u001b[1m3s\u001b[0m 4ms/step - accuracy: 0.6796 - loss: 1.0340 - val_accuracy: 0.4359 - val_loss: 2.5980\n"
          ]
        }
      ]
    },
    {
      "cell_type": "markdown",
      "source": [
        "### Model Evaluation and Analysis"
      ],
      "metadata": {
        "id": "9V6JKf4VvkVO"
      }
    },
    {
      "cell_type": "code",
      "source": [
        "# Evaluate on test data\n",
        "test_loss, test_accuracy = model.evaluate(X_test, y_test, verbose=2)\n",
        "print(f\"Test Accuracy: {test_accuracy * 100:.2f}%\")\n"
      ],
      "metadata": {
        "colab": {
          "base_uri": "https://localhost:8080/"
        },
        "id": "z3we49Akvb6H",
        "outputId": "f575d610-c0c4-4b62-a51f-cfc1dfa579ce"
      },
      "execution_count": 10,
      "outputs": [
        {
          "output_type": "stream",
          "name": "stdout",
          "text": [
            "313/313 - 1s - 4ms/step - accuracy: 0.4359 - loss: 2.5980\n",
            "Test Accuracy: 43.59%\n"
          ]
        }
      ]
    },
    {
      "cell_type": "code",
      "source": [
        "# Plot training & validation accuracy/loss\n",
        "plt.figure(figsize=(12, 4))\n",
        "\n",
        "plt.subplot(1, 2, 1)\n",
        "plt.plot(history.history['accuracy'], label='Training Accuracy')\n",
        "plt.plot(history.history['val_accuracy'], label='Validation Accuracy')\n",
        "plt.title('Accuracy')\n",
        "plt.xlabel('Epoch')\n",
        "plt.ylabel('Accuracy')\n",
        "plt.legend()\n",
        "\n",
        "plt.subplot(1, 2, 2)\n",
        "plt.plot(history.history['loss'], label='Training Loss')\n",
        "plt.plot(history.history['val_loss'], label='Validation Loss')\n",
        "plt.title('Loss')\n",
        "plt.xlabel('Epoch')\n",
        "plt.ylabel('Loss')\n",
        "plt.legend()\n",
        "\n",
        "plt.show()\n"
      ],
      "metadata": {
        "colab": {
          "base_uri": "https://localhost:8080/",
          "height": 410
        },
        "id": "r782uERnvw6L",
        "outputId": "aaad684b-414f-4760-ee44-14a440c79fd7"
      },
      "execution_count": 11,
      "outputs": [
        {
          "output_type": "display_data",
          "data": {
            "text/plain": [
              "<Figure size 1200x400 with 2 Axes>"
            ],
            "image/png": "[encoded data removed]"
          },
          "metadata": {}
        }
      ]
    },
    {
      "cell_type": "code",
      "source": [
        "# Predictions\n",
        "y_pred = model.predict(X_test)\n",
        "y_pred_classes = np.argmax(y_pred, axis=1)\n",
        "y_true_classes = np.argmax(y_test, axis=1)\n",
        "\n"
      ],
      "metadata": {
        "colab": {
          "base_uri": "https://localhost:8080/"
        },
        "id": "AfgGwKOEv6Hw",
        "outputId": "e9a83ff8-e9ec-4a44-86a3-26da92e966fa"
      },
      "execution_count": 12,
      "outputs": [
        {
          "output_type": "stream",
          "name": "stdout",
          "text": [
            "\u001b[1m313/313\u001b[0m \u001b[32m━━━━━━━━━━━━━━━━━━━━\u001b[0m\u001b[37m\u001b[0m \u001b[1m1s\u001b[0m 2ms/step\n"
          ]
        }
      ]
    },
    {
      "cell_type": "code",
      "source": [
        "# Confusion Matrix\n",
        "cm = confusion_matrix(y_true_classes, y_pred_classes)\n",
        "plt.figure(figsize=(12, 10))\n",
        "sns.heatmap(cm, annot=False, cmap='Blues', fmt='d')\n",
        "plt.title('Confusion Matrix')\n",
        "plt.xlabel('Predicted')\n",
        "plt.ylabel('True')\n",
        "plt.show()"
      ],
      "metadata": {
        "colab": {
          "base_uri": "https://localhost:8080/",
          "height": 876
        },
        "id": "1Qk_qCqgwAl7",
        "outputId": "fea04a8e-5642-4410-949f-10e44ee971c7"
      },
      "execution_count": 13,
      "outputs": [
        {
          "output_type": "display_data",
          "data": {
            "text/plain": [
              "<Figure size 1200x1000 with 2 Axes>"
            ],
            "image/png": "[encoded data removed]"
          },
          "metadata": {}
        }
      ]
    },
    {
      "cell_type": "code",
      "source": [
        "# Classification Report\n",
        "print(\"Classification Report:\")\n",
        "print(classification_report(y_true_classes, y_pred_classes, target_names=class_names))"
      ],
      "metadata": {
        "colab": {
          "base_uri": "https://localhost:8080/"
        },
        "id": "Nz9b0UV8wCdN",
        "outputId": "95befe6d-371b-4fae-9270-ae8f9ebb1633"
      },
      "execution_count": 14,
      "outputs": [
        {
          "output_type": "stream",
          "name": "stdout",
          "text": [
            "Classification Report:\n",
            "               precision    recall  f1-score   support\n",
            "\n",
            "        apple       0.82      0.71      0.76       100\n",
            "aquarium_fish       0.48      0.48      0.48       100\n",
            "         baby       0.27      0.41      0.32       100\n",
            "         bear       0.26      0.22      0.24       100\n",
            "       beaver       0.21      0.16      0.18       100\n",
            "          bed       0.37      0.34      0.35       100\n",
            "          bee       0.44      0.58      0.50       100\n",
            "       beetle       0.51      0.38      0.43       100\n",
            "      bicycle       0.61      0.43      0.50       100\n",
            "       bottle       0.64      0.51      0.57       100\n",
            "         bowl       0.30      0.27      0.28       100\n",
            "          boy       0.26      0.22      0.24       100\n",
            "       bridge       0.47      0.48      0.48       100\n",
            "          bus       0.35      0.30      0.32       100\n",
            "    butterfly       0.34      0.36      0.35       100\n",
            "        camel       0.34      0.39      0.36       100\n",
            "          can       0.35      0.41      0.38       100\n",
            "       castle       0.61      0.63      0.62       100\n",
            "  caterpillar       0.47      0.28      0.35       100\n",
            "       cattle       0.35      0.38      0.37       100\n",
            "        chair       0.68      0.67      0.68       100\n",
            "   chimpanzee       0.57      0.62      0.59       100\n",
            "        clock       0.44      0.39      0.41       100\n",
            "        cloud       0.65      0.63      0.64       100\n",
            "    cockroach       0.71      0.65      0.68       100\n",
            "        couch       0.41      0.31      0.35       100\n",
            "         crab       0.35      0.34      0.34       100\n",
            "    crocodile       0.27      0.28      0.28       100\n",
            "          cup       0.61      0.58      0.59       100\n",
            "     dinosaur       0.45      0.37      0.40       100\n",
            "      dolphin       0.35      0.46      0.40       100\n",
            "     elephant       0.38      0.40      0.39       100\n",
            "     flatfish       0.33      0.30      0.32       100\n",
            "       forest       0.49      0.31      0.38       100\n",
            "          fox       0.31      0.37      0.34       100\n",
            "         girl       0.26      0.17      0.21       100\n",
            "      hamster       0.37      0.44      0.40       100\n",
            "        house       0.28      0.37      0.32       100\n",
            "     kangaroo       0.23      0.33      0.27       100\n",
            "     keyboard       0.56      0.60      0.58       100\n",
            "         lamp       0.40      0.34      0.37       100\n",
            "   lawn_mower       0.61      0.69      0.64       100\n",
            "      leopard       0.31      0.41      0.35       100\n",
            "         lion       0.46      0.51      0.48       100\n",
            "       lizard       0.20      0.25      0.22       100\n",
            "      lobster       0.37      0.29      0.32       100\n",
            "          man       0.27      0.34      0.30       100\n",
            "   maple_tree       0.63      0.36      0.46       100\n",
            "   motorcycle       0.61      0.79      0.69       100\n",
            "     mountain       0.58      0.63      0.61       100\n",
            "        mouse       0.19      0.16      0.17       100\n",
            "     mushroom       0.43      0.49      0.46       100\n",
            "     oak_tree       0.51      0.86      0.64       100\n",
            "       orange       0.65      0.72      0.69       100\n",
            "       orchid       0.57      0.55      0.56       100\n",
            "        otter       0.22      0.13      0.16       100\n",
            "    palm_tree       0.74      0.60      0.66       100\n",
            "         pear       0.54      0.44      0.48       100\n",
            " pickup_truck       0.60      0.51      0.55       100\n",
            "    pine_tree       0.46      0.32      0.38       100\n",
            "        plain       0.73      0.83      0.78       100\n",
            "        plate       0.55      0.58      0.57       100\n",
            "        poppy       0.59      0.51      0.55       100\n",
            "    porcupine       0.47      0.43      0.45       100\n",
            "       possum       0.22      0.29      0.25       100\n",
            "       rabbit       0.25      0.22      0.24       100\n",
            "      raccoon       0.35      0.43      0.39       100\n",
            "          ray       0.34      0.44      0.39       100\n",
            "         road       0.82      0.77      0.79       100\n",
            "       rocket       0.60      0.60      0.60       100\n",
            "         rose       0.41      0.56      0.47       100\n",
            "          sea       0.77      0.53      0.63       100\n",
            "         seal       0.21      0.19      0.20       100\n",
            "        shark       0.37      0.36      0.37       100\n",
            "        shrew       0.27      0.36      0.31       100\n",
            "        skunk       0.65      0.73      0.69       100\n",
            "   skyscraper       0.71      0.69      0.70       100\n",
            "        snail       0.26      0.27      0.27       100\n",
            "        snake       0.25      0.13      0.17       100\n",
            "       spider       0.38      0.33      0.35       100\n",
            "     squirrel       0.14      0.12      0.13       100\n",
            "    streetcar       0.42      0.32      0.36       100\n",
            "    sunflower       0.77      0.78      0.78       100\n",
            " sweet_pepper       0.33      0.40      0.36       100\n",
            "        table       0.38      0.34      0.36       100\n",
            "         tank       0.50      0.52      0.51       100\n",
            "    telephone       0.53      0.51      0.52       100\n",
            "   television       0.49      0.46      0.48       100\n",
            "        tiger       0.51      0.38      0.44       100\n",
            "      tractor       0.48      0.52      0.50       100\n",
            "        train       0.27      0.44      0.34       100\n",
            "        trout       0.50      0.53      0.51       100\n",
            "        tulip       0.35      0.39      0.37       100\n",
            "       turtle       0.22      0.23      0.22       100\n",
            "     wardrobe       0.84      0.69      0.76       100\n",
            "        whale       0.48      0.42      0.45       100\n",
            "  willow_tree       0.41      0.36      0.39       100\n",
            "         wolf       0.23      0.41      0.30       100\n",
            "        woman       0.22      0.19      0.21       100\n",
            "         worm       0.62      0.41      0.49       100\n",
            "\n",
            "     accuracy                           0.44     10000\n",
            "    macro avg       0.44      0.44      0.43     10000\n",
            " weighted avg       0.44      0.44      0.43     10000\n",
            "\n"
          ]
        }
      ]
    },
    {
      "cell_type": "markdown",
      "source": [
        "## **Analysis of the Classification Report**\n",
        "\n",
        "\n",
        "## Key Observations\n",
        "1. **Overall Accuracy**: The model achieves an overall accuracy of **44%**, which indicates moderate performance on the CIFAR-100 dataset.\n",
        "2. **Class-Specific Variations**:\n",
        "   - Classes such as **\"apple\"**, **\"chair\"**, and **\"wardrobe\"** exhibit higher precision, recall, and f1-scores compared to others.\n",
        "   - Several classes, such as **\"otter\"**, **\"squirrel\"**, and **\"turtle\"**, show lower performance metrics, indicating challenges in distinguishing these categories.\n",
        "3. **Class Imbalance**: The dataset appears balanced with equal support (100 samples per class), so the performance variation is likely due to model limitations and the inherent difficulty of certain classes.\n",
        "\n",
        "## Potential Improvements\n",
        "1. **Data Augmentation**:\n",
        "   - Apply transformations like rotation, flipping, zooming, and cropping to increase the diversity of the training set and improve generalization.\n",
        "2. **Architecture Enhancements**:\n",
        "   - Increase the depth of the network by adding additional convolutional layers.\n",
        "   - Use advanced architectures such as **ResNet** or **DenseNet**, which are better suited for complex datasets.\n",
        "3. **Regularization**:\n",
        "   - Add dropout layers to reduce overfitting.\n",
        "   - Use weight decay (L2 regularization) to further improve generalization.\n",
        "4. **Fine-Tuning Hyperparameters**:\n",
        "   - Experiment with different optimizers (e.g., Adam, RMSprop) and learning rates.\n",
        "   - Adjust batch sizes for better convergence.\n",
        "5. **Transfer Learning**:\n",
        "   - Use pre-trained models like **VGG16**, **InceptionV3**, or **EfficientNet**, fine-tuned on the CIFAR-100 dataset.\n",
        "6. **Class-Specific Focus**:\n",
        "   - Investigate underperforming classes individually and consider adding more representative samples or targeted augmentation strategies.\n",
        "\n",
        "## Limitations of the Current CNN Model\n",
        "1. **Shallow Architecture**:\n",
        "   - The current model might not be deep enough to capture the complexity of CIFAR-100, which contains 100 distinct classes with fine-grained variations.\n",
        "2. **Lack of Feature Hierarchy**:\n",
        "   - Without advanced techniques like residual connections, the model might fail to learn hierarchical representations effectively.\n",
        "3. **Training Time and Resources**:\n",
        "   - Improving the model significantly may require more training time and computational resources, especially with deeper architectures or larger datasets.\n",
        "4. **Dataset Complexity**:\n",
        "   - Some classes in CIFAR-100 are inherently difficult to classify due to their visual similarity (e.g., \"leopard\" vs. \"tiger\") or abstract nature (e.g., \"cloud\" vs. \"mountain\").\n",
        "\n",
        "## Conclusion\n",
        "While the CNN model achieves moderate performance on CIFAR-100, there is significant room for improvement. Leveraging advanced architectures, data augmentation, and regularization techniques could enhance the model's accuracy and generalization capabilities. Additionally, addressing specific challenges with low-performing classes may further boost overall performance.\n"
      ],
      "metadata": {
        "id": "kvnKCfiG9SwU"
      }
    },
    {
      "cell_type": "code",
      "source": [
        "# Define the data augmentation transformations\n",
        "datagen = ImageDataGenerator(\n",
        "    rotation_range=20,          # Randomly rotate images by 20 degrees\n",
        "    width_shift_range=0.2,      # Randomly shift images horizontally by 20% of the width\n",
        "    height_shift_range=0.2,     # Randomly shift images vertically by 20% of the height\n",
        "    shear_range=0.2,            # Randomly apply shearing transformations\n",
        "    zoom_range=0.2,             # Randomly zoom in/out on images\n",
        "    horizontal_flip=True,       # Randomly flip images horizontally\n",
        "    fill_mode='nearest'         # Fill missing pixels after transformations\n",
        ")\n",
        "\n",
        "# Fit the generator to the training data\n",
        "datagen.fit(X_train)"
      ],
      "metadata": {
        "id": "WKH7Eq9f1JFg"
      },
      "execution_count": 12,
      "outputs": []
    },
    {
      "cell_type": "code",
      "source": [
        "# Example: Using the generator during model training\n",
        "model.fit(datagen.flow(X_train, y_train, batch_size=32),\n",
        "          epochs=50,\n",
        "          validation_data=(X_test, y_test))"
      ],
      "metadata": {
        "colab": {
          "base_uri": "https://localhost:8080/"
        },
        "id": "f_FquUU_4b-q",
        "outputId": "05bd7e8c-3018-4fdf-d79d-0e1de0f131ce"
      },
      "execution_count": 17,
      "outputs": [
        {
          "output_type": "stream",
          "name": "stdout",
          "text": [
            "Epoch 1/50\n",
            "\u001b[1m1563/1563\u001b[0m \u001b[32m━━━━━━━━━━━━━━━━━━━━\u001b[0m\u001b[37m\u001b[0m \u001b[1m39s\u001b[0m 22ms/step - accuracy: 0.2745 - loss: 3.0312 - val_accuracy: 0.3954 - val_loss: 2.3893\n",
            "Epoch 2/50\n",
            "\u001b[1m1563/1563\u001b[0m \u001b[32m━━━━━━━━━━━━━━━━━━━━\u001b[0m\u001b[37m\u001b[0m \u001b[1m32s\u001b[0m 21ms/step - accuracy: 0.3125 - loss: 2.7416 - val_accuracy: 0.3987 - val_loss: 2.3310\n",
            "Epoch 3/50\n",
            "\u001b[1m1563/1563\u001b[0m \u001b[32m━━━━━━━━━━━━━━━━━━━━\u001b[0m\u001b[37m\u001b[0m \u001b[1m31s\u001b[0m 20ms/step - accuracy: 0.3250 - loss: 2.6948 - val_accuracy: 0.3786 - val_loss: 2.4309\n",
            "Epoch 4/50\n",
            "\u001b[1m1563/1563\u001b[0m \u001b[32m━━━━━━━━━━━━━━━━━━━━\u001b[0m\u001b[37m\u001b[0m \u001b[1m31s\u001b[0m 20ms/step - accuracy: 0.3327 - loss: 2.6476 - val_accuracy: 0.4139 - val_loss: 2.2616\n",
            "Epoch 5/50\n",
            "\u001b[1m1563/1563\u001b[0m \u001b[32m━━━━━━━━━━━━━━━━━━━━\u001b[0m\u001b[37m\u001b[0m \u001b[1m32s\u001b[0m 20ms/step - accuracy: 0.3447 - loss: 2.5928 - val_accuracy: 0.3916 - val_loss: 2.3673\n",
            "Epoch 6/50\n",
            "\u001b[1m1563/1563\u001b[0m \u001b[32m━━━━━━━━━━━━━━━━━━━━\u001b[0m\u001b[37m\u001b[0m \u001b[1m40s\u001b[0m 20ms/step - accuracy: 0.3532 - loss: 2.5712 - val_accuracy: 0.3961 - val_loss: 2.3638\n",
            "Epoch 7/50\n",
            "\u001b[1m1563/1563\u001b[0m \u001b[32m━━━━━━━━━━━━━━━━━━━━\u001b[0m\u001b[37m\u001b[0m \u001b[1m43s\u001b[0m 21ms/step - accuracy: 0.3540 - loss: 2.5410 - val_accuracy: 0.4002 - val_loss: 2.3352\n",
            "Epoch 8/50\n",
            "\u001b[1m1563/1563\u001b[0m \u001b[32m━━━━━━━━━━━━━━━━━━━━\u001b[0m\u001b[37m\u001b[0m \u001b[1m39s\u001b[0m 20ms/step - accuracy: 0.3637 - loss: 2.5108 - val_accuracy: 0.4209 - val_loss: 2.2230\n",
            "Epoch 9/50\n",
            "\u001b[1m1563/1563\u001b[0m \u001b[32m━━━━━━━━━━━━━━━━━━━━\u001b[0m\u001b[37m\u001b[0m \u001b[1m41s\u001b[0m 20ms/step - accuracy: 0.3639 - loss: 2.4892 - val_accuracy: 0.4219 - val_loss: 2.2408\n",
            "Epoch 10/50\n",
            "\u001b[1m1563/1563\u001b[0m \u001b[32m━━━━━━━━━━━━━━━━━━━━\u001b[0m\u001b[37m\u001b[0m \u001b[1m40s\u001b[0m 19ms/step - accuracy: 0.3728 - loss: 2.4667 - val_accuracy: 0.4322 - val_loss: 2.1651\n",
            "Epoch 11/50\n",
            "\u001b[1m1563/1563\u001b[0m \u001b[32m━━━━━━━━━━━━━━━━━━━━\u001b[0m\u001b[37m\u001b[0m \u001b[1m31s\u001b[0m 20ms/step - accuracy: 0.3799 - loss: 2.4441 - val_accuracy: 0.4206 - val_loss: 2.2490\n",
            "Epoch 12/50\n",
            "\u001b[1m1563/1563\u001b[0m \u001b[32m━━━━━━━━━━━━━━━━━━━━\u001b[0m\u001b[37m\u001b[0m \u001b[1m41s\u001b[0m 20ms/step - accuracy: 0.3787 - loss: 2.4280 - val_accuracy: 0.4234 - val_loss: 2.2160\n",
            "Epoch 13/50\n",
            "\u001b[1m1563/1563\u001b[0m \u001b[32m━━━━━━━━━━━━━━━━━━━━\u001b[0m\u001b[37m\u001b[0m \u001b[1m30s\u001b[0m 19ms/step - accuracy: 0.3811 - loss: 2.4117 - val_accuracy: 0.4403 - val_loss: 2.1465\n",
            "Epoch 14/50\n",
            "\u001b[1m1563/1563\u001b[0m \u001b[32m━━━━━━━━━━━━━━━━━━━━\u001b[0m\u001b[37m\u001b[0m \u001b[1m43s\u001b[0m 20ms/step - accuracy: 0.3868 - loss: 2.4041 - val_accuracy: 0.4371 - val_loss: 2.1755\n",
            "Epoch 15/50\n",
            "\u001b[1m1563/1563\u001b[0m \u001b[32m━━━━━━━━━━━━━━━━━━━━\u001b[0m\u001b[37m\u001b[0m \u001b[1m30s\u001b[0m 19ms/step - accuracy: 0.3922 - loss: 2.3773 - val_accuracy: 0.4472 - val_loss: 2.1427\n",
            "Epoch 16/50\n",
            "\u001b[1m1563/1563\u001b[0m \u001b[32m━━━━━━━━━━━━━━━━━━━━\u001b[0m\u001b[37m\u001b[0m \u001b[1m41s\u001b[0m 19ms/step - accuracy: 0.3972 - loss: 2.3562 - val_accuracy: 0.4383 - val_loss: 2.1606\n",
            "Epoch 17/50\n",
            "\u001b[1m1563/1563\u001b[0m \u001b[32m━━━━━━━━━━━━━━━━━━━━\u001b[0m\u001b[37m\u001b[0m \u001b[1m31s\u001b[0m 20ms/step - accuracy: 0.3969 - loss: 2.3454 - val_accuracy: 0.4477 - val_loss: 2.1375\n",
            "Epoch 18/50\n",
            "\u001b[1m1563/1563\u001b[0m \u001b[32m━━━━━━━━━━━━━━━━━━━━\u001b[0m\u001b[37m\u001b[0m \u001b[1m40s\u001b[0m 19ms/step - accuracy: 0.4032 - loss: 2.3314 - val_accuracy: 0.4543 - val_loss: 2.1060\n",
            "Epoch 19/50\n",
            "\u001b[1m1563/1563\u001b[0m \u001b[32m━━━━━━━━━━━━━━━━━━━━\u001b[0m\u001b[37m\u001b[0m \u001b[1m31s\u001b[0m 20ms/step - accuracy: 0.4116 - loss: 2.2917 - val_accuracy: 0.4446 - val_loss: 2.1420\n",
            "Epoch 20/50\n",
            "\u001b[1m1563/1563\u001b[0m \u001b[32m━━━━━━━━━━━━━━━━━━━━\u001b[0m\u001b[37m\u001b[0m \u001b[1m30s\u001b[0m 19ms/step - accuracy: 0.4069 - loss: 2.3152 - val_accuracy: 0.4553 - val_loss: 2.0820\n",
            "Epoch 21/50\n",
            "\u001b[1m1563/1563\u001b[0m \u001b[32m━━━━━━━━━━━━━━━━━━━━\u001b[0m\u001b[37m\u001b[0m \u001b[1m30s\u001b[0m 19ms/step - accuracy: 0.4079 - loss: 2.2930 - val_accuracy: 0.4597 - val_loss: 2.0459\n",
            "Epoch 22/50\n",
            "\u001b[1m1563/1563\u001b[0m \u001b[32m━━━━━━━━━━━━━━━━━━━━\u001b[0m\u001b[37m\u001b[0m \u001b[1m43s\u001b[0m 21ms/step - accuracy: 0.4109 - loss: 2.2767 - val_accuracy: 0.4487 - val_loss: 2.1233\n",
            "Epoch 23/50\n",
            "\u001b[1m1563/1563\u001b[0m \u001b[32m━━━━━━━━━━━━━━━━━━━━\u001b[0m\u001b[37m\u001b[0m \u001b[1m33s\u001b[0m 21ms/step - accuracy: 0.4152 - loss: 2.2848 - val_accuracy: 0.4488 - val_loss: 2.1354\n",
            "Epoch 24/50\n",
            "\u001b[1m1563/1563\u001b[0m \u001b[32m━━━━━━━━━━━━━━━━━━━━\u001b[0m\u001b[37m\u001b[0m \u001b[1m32s\u001b[0m 20ms/step - accuracy: 0.4171 - loss: 2.2500 - val_accuracy: 0.4498 - val_loss: 2.1200\n",
            "Epoch 25/50\n",
            "\u001b[1m1563/1563\u001b[0m \u001b[32m━━━━━━━━━━━━━━━━━━━━\u001b[0m\u001b[37m\u001b[0m \u001b[1m31s\u001b[0m 20ms/step - accuracy: 0.4177 - loss: 2.2525 - val_accuracy: 0.4678 - val_loss: 2.0449\n",
            "Epoch 26/50\n",
            "\u001b[1m1563/1563\u001b[0m \u001b[32m━━━━━━━━━━━━━━━━━━━━\u001b[0m\u001b[37m\u001b[0m \u001b[1m33s\u001b[0m 21ms/step - accuracy: 0.4189 - loss: 2.2559 - val_accuracy: 0.4478 - val_loss: 2.1415\n",
            "Epoch 27/50\n",
            "\u001b[1m1563/1563\u001b[0m \u001b[32m━━━━━━━━━━━━━━━━━━━━\u001b[0m\u001b[37m\u001b[0m \u001b[1m31s\u001b[0m 20ms/step - accuracy: 0.4275 - loss: 2.2084 - val_accuracy: 0.4640 - val_loss: 2.0582\n",
            "Epoch 28/50\n",
            "\u001b[1m1563/1563\u001b[0m \u001b[32m━━━━━━━━━━━━━━━━━━━━\u001b[0m\u001b[37m\u001b[0m \u001b[1m32s\u001b[0m 21ms/step - accuracy: 0.4247 - loss: 2.2216 - val_accuracy: 0.4575 - val_loss: 2.0931\n",
            "Epoch 29/50\n",
            "\u001b[1m1563/1563\u001b[0m \u001b[32m━━━━━━━━━━━━━━━━━━━━\u001b[0m\u001b[37m\u001b[0m \u001b[1m41s\u001b[0m 21ms/step - accuracy: 0.4292 - loss: 2.2190 - val_accuracy: 0.4620 - val_loss: 2.0642\n",
            "Epoch 30/50\n",
            "\u001b[1m1563/1563\u001b[0m \u001b[32m━━━━━━━━━━━━━━━━━━━━\u001b[0m\u001b[37m\u001b[0m \u001b[1m31s\u001b[0m 20ms/step - accuracy: 0.4292 - loss: 2.2115 - val_accuracy: 0.4505 - val_loss: 2.1153\n",
            "Epoch 31/50\n",
            "\u001b[1m1563/1563\u001b[0m \u001b[32m━━━━━━━━━━━━━━━━━━━━\u001b[0m\u001b[37m\u001b[0m \u001b[1m33s\u001b[0m 21ms/step - accuracy: 0.4254 - loss: 2.2290 - val_accuracy: 0.4671 - val_loss: 2.0335\n",
            "Epoch 32/50\n",
            "\u001b[1m1563/1563\u001b[0m \u001b[32m━━━━━━━━━━━━━━━━━━━━\u001b[0m\u001b[37m\u001b[0m \u001b[1m39s\u001b[0m 20ms/step - accuracy: 0.4342 - loss: 2.1920 - val_accuracy: 0.4672 - val_loss: 2.0803\n",
            "Epoch 33/50\n",
            "\u001b[1m1563/1563\u001b[0m \u001b[32m━━━━━━━━━━━━━━━━━━━━\u001b[0m\u001b[37m\u001b[0m \u001b[1m41s\u001b[0m 20ms/step - accuracy: 0.4401 - loss: 2.1711 - val_accuracy: 0.4523 - val_loss: 2.1559\n",
            "Epoch 34/50\n",
            "\u001b[1m1563/1563\u001b[0m \u001b[32m━━━━━━━━━━━━━━━━━━━━\u001b[0m\u001b[37m\u001b[0m \u001b[1m32s\u001b[0m 21ms/step - accuracy: 0.4306 - loss: 2.1758 - val_accuracy: 0.4644 - val_loss: 2.0544\n",
            "Epoch 35/50\n",
            "\u001b[1m1563/1563\u001b[0m \u001b[32m━━━━━━━━━━━━━━━━━━━━\u001b[0m\u001b[37m\u001b[0m \u001b[1m40s\u001b[0m 20ms/step - accuracy: 0.4406 - loss: 2.1646 - val_accuracy: 0.4636 - val_loss: 2.0583\n",
            "Epoch 36/50\n",
            "\u001b[1m1563/1563\u001b[0m \u001b[32m━━━━━━━━━━━━━━━━━━━━\u001b[0m\u001b[37m\u001b[0m \u001b[1m41s\u001b[0m 20ms/step - accuracy: 0.4404 - loss: 2.1617 - val_accuracy: 0.4656 - val_loss: 2.0521\n",
            "Epoch 37/50\n",
            "\u001b[1m1563/1563\u001b[0m \u001b[32m━━━━━━━━━━━━━━━━━━━━\u001b[0m\u001b[37m\u001b[0m \u001b[1m42s\u001b[0m 21ms/step - accuracy: 0.4425 - loss: 2.1714 - val_accuracy: 0.4626 - val_loss: 2.0819\n",
            "Epoch 38/50\n",
            "\u001b[1m1563/1563\u001b[0m \u001b[32m━━━━━━━━━━━━━━━━━━━━\u001b[0m\u001b[37m\u001b[0m \u001b[1m33s\u001b[0m 21ms/step - accuracy: 0.4411 - loss: 2.1502 - val_accuracy: 0.4854 - val_loss: 1.9708\n",
            "Epoch 39/50\n",
            "\u001b[1m1563/1563\u001b[0m \u001b[32m━━━━━━━━━━━━━━━━━━━━\u001b[0m\u001b[37m\u001b[0m \u001b[1m41s\u001b[0m 21ms/step - accuracy: 0.4479 - loss: 2.1311 - val_accuracy: 0.4918 - val_loss: 1.9380\n",
            "Epoch 40/50\n",
            "\u001b[1m1563/1563\u001b[0m \u001b[32m━━━━━━━━━━━━━━━━━━━━\u001b[0m\u001b[37m\u001b[0m \u001b[1m32s\u001b[0m 20ms/step - accuracy: 0.4541 - loss: 2.1194 - val_accuracy: 0.4633 - val_loss: 2.1059\n",
            "Epoch 41/50\n",
            "\u001b[1m1563/1563\u001b[0m \u001b[32m━━━━━━━━━━━━━━━━━━━━\u001b[0m\u001b[37m\u001b[0m \u001b[1m41s\u001b[0m 20ms/step - accuracy: 0.4475 - loss: 2.1403 - val_accuracy: 0.4805 - val_loss: 2.0376\n",
            "Epoch 42/50\n",
            "\u001b[1m1563/1563\u001b[0m \u001b[32m━━━━━━━━━━━━━━━━━━━━\u001b[0m\u001b[37m\u001b[0m \u001b[1m32s\u001b[0m 21ms/step - accuracy: 0.4513 - loss: 2.1076 - val_accuracy: 0.4841 - val_loss: 2.0065\n",
            "Epoch 43/50\n",
            "\u001b[1m1563/1563\u001b[0m \u001b[32m━━━━━━━━━━━━━━━━━━━━\u001b[0m\u001b[37m\u001b[0m \u001b[1m40s\u001b[0m 20ms/step - accuracy: 0.4547 - loss: 2.1114 - val_accuracy: 0.4724 - val_loss: 2.0615\n",
            "Epoch 44/50\n",
            "\u001b[1m1563/1563\u001b[0m \u001b[32m━━━━━━━━━━━━━━━━━━━━\u001b[0m\u001b[37m\u001b[0m \u001b[1m41s\u001b[0m 20ms/step - accuracy: 0.4550 - loss: 2.1136 - val_accuracy: 0.4706 - val_loss: 2.0662\n",
            "Epoch 45/50\n",
            "\u001b[1m1563/1563\u001b[0m \u001b[32m━━━━━━━━━━━━━━━━━━━━\u001b[0m\u001b[37m\u001b[0m \u001b[1m32s\u001b[0m 21ms/step - accuracy: 0.4515 - loss: 2.1097 - val_accuracy: 0.4649 - val_loss: 2.1209\n",
            "Epoch 46/50\n",
            "\u001b[1m1563/1563\u001b[0m \u001b[32m━━━━━━━━━━━━━━━━━━━━\u001b[0m\u001b[37m\u001b[0m \u001b[1m41s\u001b[0m 21ms/step - accuracy: 0.4515 - loss: 2.1023 - val_accuracy: 0.4823 - val_loss: 2.0192\n",
            "Epoch 47/50\n",
            "\u001b[1m1563/1563\u001b[0m \u001b[32m━━━━━━━━━━━━━━━━━━━━\u001b[0m\u001b[37m\u001b[0m \u001b[1m41s\u001b[0m 21ms/step - accuracy: 0.4608 - loss: 2.0794 - val_accuracy: 0.4745 - val_loss: 2.0418\n",
            "Epoch 48/50\n",
            "\u001b[1m1563/1563\u001b[0m \u001b[32m━━━━━━━━━━━━━━━━━━━━\u001b[0m\u001b[37m\u001b[0m \u001b[1m41s\u001b[0m 21ms/step - accuracy: 0.4575 - loss: 2.0992 - val_accuracy: 0.4832 - val_loss: 2.0294\n",
            "Epoch 49/50\n",
            "\u001b[1m1563/1563\u001b[0m \u001b[32m━━━━━━━━━━━━━━━━━━━━\u001b[0m\u001b[37m\u001b[0m \u001b[1m41s\u001b[0m 21ms/step - accuracy: 0.4549 - loss: 2.0947 - val_accuracy: 0.4791 - val_loss: 2.0426\n",
            "Epoch 50/50\n",
            "\u001b[1m1563/1563\u001b[0m \u001b[32m━━━━━━━━━━━━━━━━━━━━\u001b[0m\u001b[37m\u001b[0m \u001b[1m40s\u001b[0m 20ms/step - accuracy: 0.4584 - loss: 2.0866 - val_accuracy: 0.4599 - val_loss: 2.1304\n"
          ]
        },
        {
          "output_type": "execute_result",
          "data": {
            "text/plain": [
              "<keras.src.callbacks.history.History at 0x7d1598485b50>"
            ]
          },
          "metadata": {},
          "execution_count": 17
        }
      ]
    },
    {
      "cell_type": "code",
      "source": [
        "# Evaluate on test data\n",
        "test_loss, test_accuracy = model.evaluate(X_test, y_test, verbose=2)\n",
        "print(f\"Test Accuracy: {test_accuracy * 100:.2f}%\")\n"
      ],
      "metadata": {
        "colab": {
          "base_uri": "https://localhost:8080/"
        },
        "id": "y2sGm75Y4kLc",
        "outputId": "bf1ec03c-3833-4cda-adcb-7bfec2418857"
      },
      "execution_count": 18,
      "outputs": [
        {
          "output_type": "stream",
          "name": "stdout",
          "text": [
            "313/313 - 1s - 2ms/step - accuracy: 0.4599 - loss: 2.1304\n",
            "Test Accuracy: 45.99%\n"
          ]
        }
      ]
    },
    {
      "cell_type": "code",
      "source": [
        "# Predictions\n",
        "y_pred = model.predict(X_test)\n",
        "y_pred_classes = np.argmax(y_pred, axis=1)\n",
        "y_true_classes = np.argmax(y_test, axis=1)\n",
        "\n",
        "# Classification Report\n",
        "print(\"Classification Report:\")\n",
        "print(classification_report(y_true_classes, y_pred_classes, target_names=class_names))"
      ],
      "metadata": {
        "colab": {
          "base_uri": "https://localhost:8080/"
        },
        "id": "zSLroPIq93yy",
        "outputId": "181bb495-480d-47e7-fa71-29685a6213d0"
      },
      "execution_count": 19,
      "outputs": [
        {
          "output_type": "stream",
          "name": "stdout",
          "text": [
            "\u001b[1m313/313\u001b[0m \u001b[32m━━━━━━━━━━━━━━━━━━━━\u001b[0m\u001b[37m\u001b[0m \u001b[1m1s\u001b[0m 3ms/step\n",
            "Classification Report:\n",
            "               precision    recall  f1-score   support\n",
            "\n",
            "        apple       0.82      0.71      0.76       100\n",
            "aquarium_fish       0.64      0.43      0.51       100\n",
            "         baby       0.62      0.16      0.25       100\n",
            "         bear       0.27      0.18      0.22       100\n",
            "       beaver       0.21      0.20      0.21       100\n",
            "          bed       0.53      0.41      0.46       100\n",
            "          bee       0.47      0.67      0.55       100\n",
            "       beetle       0.55      0.48      0.51       100\n",
            "      bicycle       0.59      0.47      0.53       100\n",
            "       bottle       0.80      0.41      0.54       100\n",
            "         bowl       0.31      0.26      0.28       100\n",
            "          boy       0.35      0.28      0.31       100\n",
            "       bridge       0.50      0.54      0.52       100\n",
            "          bus       0.30      0.39      0.34       100\n",
            "    butterfly       0.47      0.38      0.42       100\n",
            "        camel       0.37      0.49      0.42       100\n",
            "          can       0.58      0.49      0.53       100\n",
            "       castle       0.70      0.64      0.67       100\n",
            "  caterpillar       0.58      0.32      0.41       100\n",
            "       cattle       0.48      0.39      0.43       100\n",
            "        chair       0.70      0.71      0.71       100\n",
            "   chimpanzee       0.53      0.67      0.59       100\n",
            "        clock       0.44      0.51      0.47       100\n",
            "        cloud       0.79      0.60      0.68       100\n",
            "    cockroach       0.67      0.68      0.67       100\n",
            "        couch       0.50      0.31      0.38       100\n",
            "         crab       0.24      0.49      0.32       100\n",
            "    crocodile       0.23      0.32      0.27       100\n",
            "          cup       0.70      0.51      0.59       100\n",
            "     dinosaur       0.49      0.43      0.46       100\n",
            "      dolphin       0.42      0.42      0.42       100\n",
            "     elephant       0.59      0.41      0.49       100\n",
            "     flatfish       0.67      0.35      0.46       100\n",
            "       forest       0.52      0.36      0.43       100\n",
            "          fox       0.46      0.19      0.27       100\n",
            "         girl       0.27      0.36      0.31       100\n",
            "      hamster       0.58      0.47      0.52       100\n",
            "        house       0.35      0.43      0.39       100\n",
            "     kangaroo       0.38      0.23      0.29       100\n",
            "     keyboard       0.42      0.69      0.52       100\n",
            "         lamp       0.51      0.30      0.38       100\n",
            "   lawn_mower       0.74      0.61      0.67       100\n",
            "      leopard       0.19      0.65      0.29       100\n",
            "         lion       0.42      0.41      0.42       100\n",
            "       lizard       0.18      0.10      0.13       100\n",
            "      lobster       0.26      0.32      0.29       100\n",
            "          man       0.28      0.38      0.32       100\n",
            "   maple_tree       0.54      0.45      0.49       100\n",
            "   motorcycle       0.35      0.92      0.51       100\n",
            "     mountain       0.67      0.51      0.58       100\n",
            "        mouse       0.41      0.14      0.21       100\n",
            "     mushroom       0.30      0.61      0.40       100\n",
            "     oak_tree       0.40      0.83      0.54       100\n",
            "       orange       0.65      0.84      0.73       100\n",
            "       orchid       0.65      0.65      0.65       100\n",
            "        otter       0.07      0.02      0.03       100\n",
            "    palm_tree       0.83      0.75      0.79       100\n",
            "         pear       0.72      0.46      0.56       100\n",
            " pickup_truck       0.49      0.65      0.56       100\n",
            "    pine_tree       0.44      0.35      0.39       100\n",
            "        plain       0.73      0.82      0.77       100\n",
            "        plate       0.48      0.55      0.51       100\n",
            "        poppy       0.69      0.43      0.53       100\n",
            "    porcupine       0.35      0.47      0.40       100\n",
            "       possum       0.47      0.23      0.31       100\n",
            "       rabbit       0.40      0.10      0.16       100\n",
            "      raccoon       0.38      0.45      0.41       100\n",
            "          ray       0.47      0.38      0.42       100\n",
            "         road       0.88      0.72      0.79       100\n",
            "       rocket       0.81      0.55      0.65       100\n",
            "         rose       0.58      0.61      0.60       100\n",
            "          sea       0.67      0.57      0.62       100\n",
            "         seal       0.26      0.16      0.20       100\n",
            "        shark       0.46      0.42      0.44       100\n",
            "        shrew       0.35      0.25      0.29       100\n",
            "        skunk       0.44      0.82      0.58       100\n",
            "   skyscraper       0.79      0.60      0.68       100\n",
            "        snail       0.61      0.19      0.29       100\n",
            "        snake       0.18      0.48      0.26       100\n",
            "       spider       0.67      0.32      0.43       100\n",
            "     squirrel       0.35      0.12      0.18       100\n",
            "    streetcar       0.32      0.68      0.43       100\n",
            "    sunflower       0.86      0.75      0.80       100\n",
            " sweet_pepper       0.46      0.46      0.46       100\n",
            "        table       0.54      0.43      0.48       100\n",
            "         tank       0.35      0.64      0.46       100\n",
            "    telephone       0.48      0.41      0.44       100\n",
            "   television       0.40      0.67      0.50       100\n",
            "        tiger       0.34      0.64      0.44       100\n",
            "      tractor       0.45      0.63      0.52       100\n",
            "        train       0.58      0.47      0.52       100\n",
            "        trout       0.80      0.48      0.60       100\n",
            "        tulip       0.66      0.19      0.29       100\n",
            "       turtle       0.38      0.27      0.32       100\n",
            "     wardrobe       0.78      0.79      0.79       100\n",
            "        whale       0.48      0.56      0.52       100\n",
            "  willow_tree       0.36      0.20      0.26       100\n",
            "         wolf       0.38      0.47      0.42       100\n",
            "        woman       0.25      0.22      0.24       100\n",
            "         worm       0.73      0.40      0.52       100\n",
            "\n",
            "     accuracy                           0.46     10000\n",
            "    macro avg       0.50      0.46      0.46     10000\n",
            " weighted avg       0.50      0.46      0.46     10000\n",
            "\n"
          ]
        }
      ]
    },
    {
      "cell_type": "markdown",
      "source": [
        "# Classification Report Analysis\n",
        "\n",
        "## **Interpretation of Results**\n",
        "\n",
        "The classification report provides insights into the model's performance on the CIFAR-100 dataset after applying data augmentation. Here are the key takeaways:\n",
        "\n",
        "### **1. Overall Model Performance**\n",
        "- **Accuracy**: The model achieves an overall accuracy of **46%**, indicating it correctly classifies 46% of the images in the test set.\n",
        "- **Macro Average**:\n",
        "  - **Precision**: 50%\n",
        "  - **Recall**: 46%\n",
        "  - **F1-score**: 46%\n",
        "  - These values suggest the model performs moderately well across all classes but has room for improvement in handling class imbalances and underperforming categories.\n",
        "- **Weighted Average**:\n",
        "  - These metrics are similar to the macro average, reflecting the class distribution in the dataset.\n",
        "\n",
        "### **2. Insights into Specific Classes**\n",
        "- **Well-Performing Classes**:\n",
        "  - Classes such as **apple** (precision: 82%, recall: 71%), **road** (precision: 88%, recall: 72%), and **sunflower** (precision: 86%, recall: 75%) are classified with high precision and recall.\n",
        "  - These results may be due to the distinct features of these classes, which are easier for the CNN to learn.\n",
        "\n",
        "- **Underperforming Classes**:\n",
        "  - Classes like **otter** (precision: 7%, recall: 2%), **rabbit** (precision: 40%, recall: 10%), and **lizard** (precision: 18%, recall: 10%) show poor precision and recall.\n",
        "  - These results indicate that the model struggles with these classes, likely due to:\n",
        "    - Insufficient or overlapping features with other classes.\n",
        "    - A lack of diverse training samples despite augmentation.\n",
        "\n",
        "### **3. Class Imbalance Issues**\n",
        "- Certain classes, such as **leopard** (precision: 19%, recall: 65%) and **motorcycle** (precision: 35%, recall: 92%), show significant disparities between precision and recall, suggesting the model might:\n",
        "  - Struggle with overfitting to specific features.\n",
        "  - Be influenced by class imbalance.\n",
        "\n",
        "---\n",
        "\n",
        "## **Potential Improvements**\n",
        "\n",
        "1. **Enhancing Augmentation Techniques**:\n",
        "   - Introduce advanced augmentations such as **random erasing**, **color jittering**, or **cutout** to make the model robust to variations.\n",
        "\n",
        "2. **Transfer Learning**:\n",
        "   - Fine-tune advanced pre-trained architectures like **ResNet-50**, **DenseNet-121**, or **EfficientNet** on CIFAR-100 to leverage the knowledge from larger datasets like ImageNet.\n",
        "\n",
        "3. **Class Rebalancing**:\n",
        "   - Use **class weights** in the loss function to give more importance to underrepresented classes.\n",
        "   - Employ **oversampling** for minority classes or **SMOTE** techniques to balance the dataset.\n",
        "\n",
        "4. **Improving Model Architecture**:\n",
        "   - Experiment with deeper architectures or **attention mechanisms** (e.g., Squeeze-and-Excitation Networks) to capture global context and refine feature extraction.\n",
        "\n",
        "5. **Regularization**:\n",
        "   - Use techniques like **dropout**, **weight decay**, or **label smoothing** to prevent overfitting and improve generalization.\n",
        "\n",
        "6. **Hyperparameter Tuning**:\n",
        "   - Optimize learning rates, batch sizes, and the number of filters in CNN layers to maximize performance.\n",
        "\n",
        "---\n",
        "\n",
        "## **Limitations of the CNN Model**\n",
        "- **Complexity of the Dataset**:\n",
        "  - CIFAR-100 is a challenging dataset with small image sizes (32x32), making it harder for the model to learn intricate details.\n",
        "- **Limited Depth**:\n",
        "  - The current CNN model might not be deep enough to capture the complexity of all 100 classes.\n",
        "- **Dependence on Augmentation**:\n",
        "  - Despite augmentation, some classes remain underrepresented, affecting generalization.\n",
        "\n",
        "---\n",
        "\n",
        "## **Conclusion**\n",
        "While the CNN model demonstrates moderate performance with an accuracy of **46%**, there is significant room for improvement. Employing more advanced architectures, improving augmentation techniques, addressing class imbalance, and fine-tuning hyperparameters can enhance the model's ability to generalize and classify all 100 classes effectively. These steps are critical to achieving state-of-the-art results on the CIFAR-100 dataset.\n"
      ],
      "metadata": {
        "id": "E67BR1goA-U7"
      }
    },
    {
      "cell_type": "markdown",
      "source": [
        "### ResNet Implementation\n",
        "\n",
        "**ResNet (Residual Network)** uses residual connections to mitigate the vanishing gradient problem and train very deep networks effectively."
      ],
      "metadata": {
        "id": "WSw9slpnBXBA"
      }
    },
    {
      "cell_type": "code",
      "source": [
        "# Load the ResNet50 model (pre-trained on ImageNet)\n",
        "base_model = ResNet50(weights='imagenet', include_top=False, input_shape=(32, 32, 3))\n",
        "\n",
        "# Add custom layers on top of the ResNet base\n",
        "model_rn50 = models.Sequential([\n",
        "    base_model,\n",
        "    layers.Flatten(),                           # Flatten the output\n",
        "    layers.Dense(256, activation='relu'),       # Fully connected layer\n",
        "    layers.Dense(100, activation='softmax')     # Output layer for CIFAR-100 (100 classes)\n",
        "])\n",
        "\n",
        "# Compile the model\n",
        "model_rn50.compile(optimizer=Adam(learning_rate=0.0001),\n",
        "              loss='categorical_crossentropy',\n",
        "              metrics=['accuracy'])\n",
        "\n",
        "# Model summary\n",
        "model_rn50.summary()"
      ],
      "metadata": {
        "colab": {
          "base_uri": "https://localhost:8080/",
          "height": 302
        },
        "id": "CIKJPm8DAIgg",
        "outputId": "a76a5626-8104-4078-e2c4-cca55f30f657"
      },
      "execution_count": 3,
      "outputs": [
        {
          "output_type": "stream",
          "name": "stdout",
          "text": [
            "Downloading data from https://storage.googleapis.com/tensorflow/keras-applications/resnet/resnet50_weights_tf_dim_ordering_tf_kernels_notop.h5\n",
            "\u001b[1m94765736/94765736\u001b[0m \u001b[32m━━━━━━━━━━━━━━━━━━━━\u001b[0m\u001b[37m\u001b[0m \u001b[1m5s\u001b[0m 0us/step\n"
          ]
        },
        {
          "output_type": "display_data",
          "data": {
            "text/plain": [
              "\u001b[1mModel: \"sequential\"\u001b[0m\n"
            ],
            "text/html": [
              "<pre style=\"white-space:pre;overflow-x:auto;line-height:normal;font-family:Menlo,'DejaVu Sans Mono',consolas,'Courier New',monospace\"><span style=\"font-weight: bold\">Model: \"sequential\"</span>\n",
              "</pre>\n"
            ]
          },
          "metadata": {}
        },
        {
          "output_type": "display_data",
          "data": {
            "text/plain": [
              "┏━━━━━━━━━━━━━━━━━━━━━━━━━━━━━━━━━━━━━━┳━━━━━━━━━━━━━━━━━━━━━━━━━━━━━┳━━━━━━━━━━━━━━━━━┓\n",
              "┃\u001b[1m \u001b[0m\u001b[1mLayer (type)                        \u001b[0m\u001b[1m \u001b[0m┃\u001b[1m \u001b[0m\u001b[1mOutput Shape               \u001b[0m\u001b[1m \u001b[0m┃\u001b[1m \u001b[0m\u001b[1m        Param #\u001b[0m\u001b[1m \u001b[0m┃\n",
              "┡━━━━━━━━━━━━━━━━━━━━━━━━━━━━━━━━━━━━━━╇━━━━━━━━━━━━━━━━━━━━━━━━━━━━━╇━━━━━━━━━━━━━━━━━┩\n",
              "│ resnet50 (\u001b[38;5;33mFunctional\u001b[0m)                │ (\u001b[38;5;45mNone\u001b[0m, \u001b[38;5;34m1\u001b[0m, \u001b[38;5;34m1\u001b[0m, \u001b[38;5;34m2048\u001b[0m)          │      \u001b[38;5;34m23,587,712\u001b[0m │\n",
              "├──────────────────────────────────────┼─────────────────────────────┼─────────────────┤\n",
              "│ flatten (\u001b[38;5;33mFlatten\u001b[0m)                    │ (\u001b[38;5;45mNone\u001b[0m, \u001b[38;5;34m2048\u001b[0m)                │               \u001b[38;5;34m0\u001b[0m │\n",
              "├──────────────────────────────────────┼─────────────────────────────┼─────────────────┤\n",
              "│ dense (\u001b[38;5;33mDense\u001b[0m)                        │ (\u001b[38;5;45mNone\u001b[0m, \u001b[38;5;34m256\u001b[0m)                 │         \u001b[38;5;34m524,544\u001b[0m │\n",
              "├──────────────────────────────────────┼─────────────────────────────┼─────────────────┤\n",
              "│ dense_1 (\u001b[38;5;33mDense\u001b[0m)                      │ (\u001b[38;5;45mNone\u001b[0m, \u001b[38;5;34m100\u001b[0m)                 │          \u001b[38;5;34m25,700\u001b[0m │\n",
              "└──────────────────────────────────────┴─────────────────────────────┴─────────────────┘\n"
            ],
            "text/html": [
              "<pre style=\"white-space:pre;overflow-x:auto;line-height:normal;font-family:Menlo,'DejaVu Sans Mono',consolas,'Courier New',monospace\">┏━━━━━━━━━━━━━━━━━━━━━━━━━━━━━━━━━━━━━━┳━━━━━━━━━━━━━━━━━━━━━━━━━━━━━┳━━━━━━━━━━━━━━━━━┓\n",
              "┃<span style=\"font-weight: bold\"> Layer (type)                         </span>┃<span style=\"font-weight: bold\"> Output Shape                </span>┃<span style=\"font-weight: bold\">         Param # </span>┃\n",
              "┡━━━━━━━━━━━━━━━━━━━━━━━━━━━━━━━━━━━━━━╇━━━━━━━━━━━━━━━━━━━━━━━━━━━━━╇━━━━━━━━━━━━━━━━━┩\n",
              "│ resnet50 (<span style=\"color: #0087ff; text-decoration-color: #0087ff\">Functional</span>)                │ (<span style=\"color: #00d7ff; text-decoration-color: #00d7ff\">None</span>, <span style=\"color: #00af00; text-decoration-color: #00af00\">1</span>, <span style=\"color: #00af00; text-decoration-color: #00af00\">1</span>, <span style=\"color: #00af00; text-decoration-color: #00af00\">2048</span>)          │      <span style=\"color: #00af00; text-decoration-color: #00af00\">23,587,712</span> │\n",
              "├──────────────────────────────────────┼─────────────────────────────┼─────────────────┤\n",
              "│ flatten (<span style=\"color: #0087ff; text-decoration-color: #0087ff\">Flatten</span>)                    │ (<span style=\"color: #00d7ff; text-decoration-color: #00d7ff\">None</span>, <span style=\"color: #00af00; text-decoration-color: #00af00\">2048</span>)                │               <span style=\"color: #00af00; text-decoration-color: #00af00\">0</span> │\n",
              "├──────────────────────────────────────┼─────────────────────────────┼─────────────────┤\n",
              "│ dense (<span style=\"color: #0087ff; text-decoration-color: #0087ff\">Dense</span>)                        │ (<span style=\"color: #00d7ff; text-decoration-color: #00d7ff\">None</span>, <span style=\"color: #00af00; text-decoration-color: #00af00\">256</span>)                 │         <span style=\"color: #00af00; text-decoration-color: #00af00\">524,544</span> │\n",
              "├──────────────────────────────────────┼─────────────────────────────┼─────────────────┤\n",
              "│ dense_1 (<span style=\"color: #0087ff; text-decoration-color: #0087ff\">Dense</span>)                      │ (<span style=\"color: #00d7ff; text-decoration-color: #00d7ff\">None</span>, <span style=\"color: #00af00; text-decoration-color: #00af00\">100</span>)                 │          <span style=\"color: #00af00; text-decoration-color: #00af00\">25,700</span> │\n",
              "└──────────────────────────────────────┴─────────────────────────────┴─────────────────┘\n",
              "</pre>\n"
            ]
          },
          "metadata": {}
        },
        {
          "output_type": "display_data",
          "data": {
            "text/plain": [
              "\u001b[1m Total params: \u001b[0m\u001b[38;5;34m24,137,956\u001b[0m (92.08 MB)\n"
            ],
            "text/html": [
              "<pre style=\"white-space:pre;overflow-x:auto;line-height:normal;font-family:Menlo,'DejaVu Sans Mono',consolas,'Courier New',monospace\"><span style=\"font-weight: bold\"> Total params: </span><span style=\"color: #00af00; text-decoration-color: #00af00\">24,137,956</span> (92.08 MB)\n",
              "</pre>\n"
            ]
          },
          "metadata": {}
        },
        {
          "output_type": "display_data",
          "data": {
            "text/plain": [
              "\u001b[1m Trainable params: \u001b[0m\u001b[38;5;34m24,084,836\u001b[0m (91.88 MB)\n"
            ],
            "text/html": [
              "<pre style=\"white-space:pre;overflow-x:auto;line-height:normal;font-family:Menlo,'DejaVu Sans Mono',consolas,'Courier New',monospace\"><span style=\"font-weight: bold\"> Trainable params: </span><span style=\"color: #00af00; text-decoration-color: #00af00\">24,084,836</span> (91.88 MB)\n",
              "</pre>\n"
            ]
          },
          "metadata": {}
        },
        {
          "output_type": "display_data",
          "data": {
            "text/plain": [
              "\u001b[1m Non-trainable params: \u001b[0m\u001b[38;5;34m53,120\u001b[0m (207.50 KB)\n"
            ],
            "text/html": [
              "<pre style=\"white-space:pre;overflow-x:auto;line-height:normal;font-family:Menlo,'DejaVu Sans Mono',consolas,'Courier New',monospace\"><span style=\"font-weight: bold\"> Non-trainable params: </span><span style=\"color: #00af00; text-decoration-color: #00af00\">53,120</span> (207.50 KB)\n",
              "</pre>\n"
            ]
          },
          "metadata": {}
        }
      ]
    },
    {
      "cell_type": "code",
      "source": [
        "model_rn50.fit(datagen.flow(X_train, y_train, batch_size=32),\n",
        "          epochs=50,\n",
        "          validation_data=(X_test, y_test))"
      ],
      "metadata": {
        "colab": {
          "base_uri": "https://localhost:8080/"
        },
        "id": "4CasvP9OCJTy",
        "outputId": "20b1d559-c40f-4924-aea4-41be10d1e527"
      },
      "execution_count": 13,
      "outputs": [
        {
          "output_type": "stream",
          "name": "stdout",
          "text": [
            "Epoch 1/50\n",
            "\u001b[1m1563/1563\u001b[0m \u001b[32m━━━━━━━━━━━━━━━━━━━━\u001b[0m\u001b[37m\u001b[0m \u001b[1m149s\u001b[0m 55ms/step - accuracy: 0.0986 - loss: 4.2814 - val_accuracy: 0.2998 - val_loss: 2.8957\n",
            "Epoch 2/50\n",
            "\u001b[1m1563/1563\u001b[0m \u001b[32m━━━━━━━━━━━━━━━━━━━━\u001b[0m\u001b[37m\u001b[0m \u001b[1m55s\u001b[0m 35ms/step - accuracy: 0.2833 - loss: 2.9295 - val_accuracy: 0.3455 - val_loss: 2.6693\n",
            "Epoch 3/50\n",
            "\u001b[1m1563/1563\u001b[0m \u001b[32m━━━━━━━━━━━━━━━━━━━━\u001b[0m\u001b[37m\u001b[0m \u001b[1m82s\u001b[0m 35ms/step - accuracy: 0.3538 - loss: 2.5505 - val_accuracy: 0.4249 - val_loss: 2.2490\n",
            "Epoch 4/50\n",
            "\u001b[1m1563/1563\u001b[0m \u001b[32m━━━━━━━━━━━━━━━━━━━━\u001b[0m\u001b[37m\u001b[0m \u001b[1m55s\u001b[0m 35ms/step - accuracy: 0.4025 - loss: 2.3102 - val_accuracy: 0.4329 - val_loss: 2.2343\n",
            "Epoch 5/50\n",
            "\u001b[1m1563/1563\u001b[0m \u001b[32m━━━━━━━━━━━━━━━━━━━━\u001b[0m\u001b[37m\u001b[0m \u001b[1m57s\u001b[0m 36ms/step - accuracy: 0.4271 - loss: 2.1822 - val_accuracy: 0.4541 - val_loss: 2.1351\n",
            "Epoch 6/50\n",
            "\u001b[1m1563/1563\u001b[0m \u001b[32m━━━━━━━━━━━━━━━━━━━━\u001b[0m\u001b[37m\u001b[0m \u001b[1m55s\u001b[0m 35ms/step - accuracy: 0.4588 - loss: 2.0404 - val_accuracy: 0.4844 - val_loss: 1.9376\n",
            "Epoch 7/50\n",
            "\u001b[1m1563/1563\u001b[0m \u001b[32m━━━━━━━━━━━━━━━━━━━━\u001b[0m\u001b[37m\u001b[0m \u001b[1m55s\u001b[0m 35ms/step - accuracy: 0.4846 - loss: 1.9321 - val_accuracy: 0.4841 - val_loss: 1.9771\n",
            "Epoch 8/50\n",
            "\u001b[1m1563/1563\u001b[0m \u001b[32m━━━━━━━━━━━━━━━━━━━━\u001b[0m\u001b[37m\u001b[0m \u001b[1m55s\u001b[0m 35ms/step - accuracy: 0.4931 - loss: 1.8703 - val_accuracy: 0.4992 - val_loss: 1.9584\n",
            "Epoch 9/50\n",
            "\u001b[1m1563/1563\u001b[0m \u001b[32m━━━━━━━━━━━━━━━━━━━━\u001b[0m\u001b[37m\u001b[0m \u001b[1m83s\u001b[0m 36ms/step - accuracy: 0.5146 - loss: 1.7844 - val_accuracy: 0.5063 - val_loss: 1.9105\n",
            "Epoch 10/50\n",
            "\u001b[1m1563/1563\u001b[0m \u001b[32m━━━━━━━━━━━━━━━━━━━━\u001b[0m\u001b[37m\u001b[0m \u001b[1m80s\u001b[0m 34ms/step - accuracy: 0.5287 - loss: 1.7092 - val_accuracy: 0.5046 - val_loss: 1.9677\n",
            "Epoch 11/50\n",
            "\u001b[1m1563/1563\u001b[0m \u001b[32m━━━━━━━━━━━━━━━━━━━━\u001b[0m\u001b[37m\u001b[0m \u001b[1m82s\u001b[0m 35ms/step - accuracy: 0.5418 - loss: 1.6560 - val_accuracy: 0.5134 - val_loss: 1.8608\n",
            "Epoch 12/50\n",
            "\u001b[1m1563/1563\u001b[0m \u001b[32m━━━━━━━━━━━━━━━━━━━━\u001b[0m\u001b[37m\u001b[0m \u001b[1m54s\u001b[0m 35ms/step - accuracy: 0.5607 - loss: 1.5876 - val_accuracy: 0.5129 - val_loss: 1.9486\n",
            "Epoch 13/50\n",
            "\u001b[1m1563/1563\u001b[0m \u001b[32m━━━━━━━━━━━━━━━━━━━━\u001b[0m\u001b[37m\u001b[0m \u001b[1m83s\u001b[0m 35ms/step - accuracy: 0.5691 - loss: 1.5390 - val_accuracy: 0.5240 - val_loss: 1.8815\n",
            "Epoch 14/50\n",
            "\u001b[1m1563/1563\u001b[0m \u001b[32m━━━━━━━━━━━━━━━━━━━━\u001b[0m\u001b[37m\u001b[0m \u001b[1m54s\u001b[0m 35ms/step - accuracy: 0.5809 - loss: 1.4827 - val_accuracy: 0.5061 - val_loss: 2.0021\n",
            "Epoch 15/50\n",
            "\u001b[1m1563/1563\u001b[0m \u001b[32m━━━━━━━━━━━━━━━━━━━━\u001b[0m\u001b[37m\u001b[0m \u001b[1m54s\u001b[0m 34ms/step - accuracy: 0.5940 - loss: 1.4369 - val_accuracy: 0.5361 - val_loss: 1.7688\n",
            "Epoch 16/50\n",
            "\u001b[1m1563/1563\u001b[0m \u001b[32m━━━━━━━━━━━━━━━━━━━━\u001b[0m\u001b[37m\u001b[0m \u001b[1m54s\u001b[0m 35ms/step - accuracy: 0.5987 - loss: 1.4123 - val_accuracy: 0.5286 - val_loss: 1.8726\n",
            "Epoch 17/50\n",
            "\u001b[1m1563/1563\u001b[0m \u001b[32m━━━━━━━━━━━━━━━━━━━━\u001b[0m\u001b[37m\u001b[0m \u001b[1m55s\u001b[0m 35ms/step - accuracy: 0.6147 - loss: 1.3511 - val_accuracy: 0.5477 - val_loss: 1.7888\n",
            "Epoch 18/50\n",
            "\u001b[1m1563/1563\u001b[0m \u001b[32m━━━━━━━━━━━━━━━━━━━━\u001b[0m\u001b[37m\u001b[0m \u001b[1m54s\u001b[0m 34ms/step - accuracy: 0.6231 - loss: 1.3212 - val_accuracy: 0.5638 - val_loss: 1.6879\n",
            "Epoch 19/50\n",
            "\u001b[1m1563/1563\u001b[0m \u001b[32m━━━━━━━━━━━━━━━━━━━━\u001b[0m\u001b[37m\u001b[0m \u001b[1m53s\u001b[0m 34ms/step - accuracy: 0.6353 - loss: 1.2650 - val_accuracy: 0.5424 - val_loss: 1.8378\n",
            "Epoch 20/50\n",
            "\u001b[1m1563/1563\u001b[0m \u001b[32m━━━━━━━━━━━━━━━━━━━━\u001b[0m\u001b[37m\u001b[0m \u001b[1m53s\u001b[0m 34ms/step - accuracy: 0.6369 - loss: 1.2530 - val_accuracy: 0.5400 - val_loss: 1.8445\n",
            "Epoch 21/50\n",
            "\u001b[1m1563/1563\u001b[0m \u001b[32m━━━━━━━━━━━━━━━━━━━━\u001b[0m\u001b[37m\u001b[0m \u001b[1m82s\u001b[0m 34ms/step - accuracy: 0.6517 - loss: 1.2029 - val_accuracy: 0.5434 - val_loss: 1.8022\n",
            "Epoch 22/50\n",
            "\u001b[1m1563/1563\u001b[0m \u001b[32m━━━━━━━━━━━━━━━━━━━━\u001b[0m\u001b[37m\u001b[0m \u001b[1m82s\u001b[0m 34ms/step - accuracy: 0.6567 - loss: 1.1788 - val_accuracy: 0.5466 - val_loss: 1.8498\n",
            "Epoch 23/50\n",
            "\u001b[1m1563/1563\u001b[0m \u001b[32m━━━━━━━━━━━━━━━━━━━━\u001b[0m\u001b[37m\u001b[0m \u001b[1m53s\u001b[0m 34ms/step - accuracy: 0.6675 - loss: 1.1418 - val_accuracy: 0.5577 - val_loss: 1.7998\n",
            "Epoch 24/50\n",
            "\u001b[1m1563/1563\u001b[0m \u001b[32m━━━━━━━━━━━━━━━━━━━━\u001b[0m\u001b[37m\u001b[0m \u001b[1m82s\u001b[0m 34ms/step - accuracy: 0.6750 - loss: 1.1143 - val_accuracy: 0.5381 - val_loss: 1.9643\n",
            "Epoch 25/50\n",
            "\u001b[1m1563/1563\u001b[0m \u001b[32m━━━━━━━━━━━━━━━━━━━━\u001b[0m\u001b[37m\u001b[0m \u001b[1m54s\u001b[0m 34ms/step - accuracy: 0.6846 - loss: 1.0656 - val_accuracy: 0.5725 - val_loss: 1.7581\n",
            "Epoch 26/50\n",
            "\u001b[1m1563/1563\u001b[0m \u001b[32m━━━━━━━━━━━━━━━━━━━━\u001b[0m\u001b[37m\u001b[0m \u001b[1m55s\u001b[0m 35ms/step - accuracy: 0.6907 - loss: 1.0513 - val_accuracy: 0.5691 - val_loss: 1.8115\n",
            "Epoch 27/50\n",
            "\u001b[1m1563/1563\u001b[0m \u001b[32m━━━━━━━━━━━━━━━━━━━━\u001b[0m\u001b[37m\u001b[0m \u001b[1m80s\u001b[0m 34ms/step - accuracy: 0.7032 - loss: 1.0139 - val_accuracy: 0.5526 - val_loss: 1.8754\n",
            "Epoch 28/50\n",
            "\u001b[1m1563/1563\u001b[0m \u001b[32m━━━━━━━━━━━━━━━━━━━━\u001b[0m\u001b[37m\u001b[0m \u001b[1m53s\u001b[0m 34ms/step - accuracy: 0.7045 - loss: 0.9940 - val_accuracy: 0.5448 - val_loss: 1.9468\n",
            "Epoch 29/50\n",
            "\u001b[1m1563/1563\u001b[0m \u001b[32m━━━━━━━━━━━━━━━━━━━━\u001b[0m\u001b[37m\u001b[0m \u001b[1m53s\u001b[0m 34ms/step - accuracy: 0.7139 - loss: 0.9715 - val_accuracy: 0.5656 - val_loss: 1.8822\n",
            "Epoch 30/50\n",
            "\u001b[1m1563/1563\u001b[0m \u001b[32m━━━━━━━━━━━━━━━━━━━━\u001b[0m\u001b[37m\u001b[0m \u001b[1m54s\u001b[0m 35ms/step - accuracy: 0.7186 - loss: 0.9446 - val_accuracy: 0.5567 - val_loss: 1.9482\n",
            "Epoch 31/50\n",
            "\u001b[1m1563/1563\u001b[0m \u001b[32m━━━━━━━━━━━━━━━━━━━━\u001b[0m\u001b[37m\u001b[0m \u001b[1m53s\u001b[0m 34ms/step - accuracy: 0.7284 - loss: 0.9117 - val_accuracy: 0.5497 - val_loss: 1.9505\n",
            "Epoch 32/50\n",
            "\u001b[1m1563/1563\u001b[0m \u001b[32m━━━━━━━━━━━━━━━━━━━━\u001b[0m\u001b[37m\u001b[0m \u001b[1m82s\u001b[0m 34ms/step - accuracy: 0.7351 - loss: 0.8892 - val_accuracy: 0.5434 - val_loss: 2.0148\n",
            "Epoch 33/50\n",
            "\u001b[1m1563/1563\u001b[0m \u001b[32m━━━━━━━━━━━━━━━━━━━━\u001b[0m\u001b[37m\u001b[0m \u001b[1m53s\u001b[0m 34ms/step - accuracy: 0.7385 - loss: 0.8677 - val_accuracy: 0.5533 - val_loss: 1.9239\n",
            "Epoch 34/50\n",
            "\u001b[1m1563/1563\u001b[0m \u001b[32m━━━━━━━━━━━━━━━━━━━━\u001b[0m\u001b[37m\u001b[0m \u001b[1m84s\u001b[0m 35ms/step - accuracy: 0.7433 - loss: 0.8545 - val_accuracy: 0.5641 - val_loss: 1.9179\n",
            "Epoch 35/50\n",
            "\u001b[1m1563/1563\u001b[0m \u001b[32m━━━━━━━━━━━━━━━━━━━━\u001b[0m\u001b[37m\u001b[0m \u001b[1m80s\u001b[0m 34ms/step - accuracy: 0.7519 - loss: 0.8267 - val_accuracy: 0.5495 - val_loss: 2.0298\n",
            "Epoch 36/50\n",
            "\u001b[1m1563/1563\u001b[0m \u001b[32m━━━━━━━━━━━━━━━━━━━━\u001b[0m\u001b[37m\u001b[0m \u001b[1m53s\u001b[0m 34ms/step - accuracy: 0.7522 - loss: 0.8231 - val_accuracy: 0.5572 - val_loss: 2.0604\n",
            "Epoch 37/50\n",
            "\u001b[1m1563/1563\u001b[0m \u001b[32m━━━━━━━━━━━━━━━━━━━━\u001b[0m\u001b[37m\u001b[0m \u001b[1m53s\u001b[0m 34ms/step - accuracy: 0.7636 - loss: 0.7836 - val_accuracy: 0.5491 - val_loss: 2.0955\n",
            "Epoch 38/50\n",
            "\u001b[1m1563/1563\u001b[0m \u001b[32m━━━━━━━━━━━━━━━━━━━━\u001b[0m\u001b[37m\u001b[0m \u001b[1m55s\u001b[0m 35ms/step - accuracy: 0.7692 - loss: 0.7590 - val_accuracy: 0.5480 - val_loss: 2.0473\n",
            "Epoch 39/50\n",
            "\u001b[1m1563/1563\u001b[0m \u001b[32m━━━━━━━━━━━━━━━━━━━━\u001b[0m\u001b[37m\u001b[0m \u001b[1m54s\u001b[0m 34ms/step - accuracy: 0.7759 - loss: 0.7334 - val_accuracy: 0.5680 - val_loss: 1.9577\n",
            "Epoch 40/50\n",
            "\u001b[1m1563/1563\u001b[0m \u001b[32m━━━━━━━━━━━━━━━━━━━━\u001b[0m\u001b[37m\u001b[0m \u001b[1m82s\u001b[0m 34ms/step - accuracy: 0.7803 - loss: 0.7268 - val_accuracy: 0.5596 - val_loss: 2.0453\n",
            "Epoch 41/50\n",
            "\u001b[1m1563/1563\u001b[0m \u001b[32m━━━━━━━━━━━━━━━━━━━━\u001b[0m\u001b[37m\u001b[0m \u001b[1m81s\u001b[0m 34ms/step - accuracy: 0.7817 - loss: 0.7157 - val_accuracy: 0.5645 - val_loss: 1.9985\n",
            "Epoch 42/50\n",
            "\u001b[1m1563/1563\u001b[0m \u001b[32m━━━━━━━━━━━━━━━━━━━━\u001b[0m\u001b[37m\u001b[0m \u001b[1m55s\u001b[0m 35ms/step - accuracy: 0.7869 - loss: 0.6938 - val_accuracy: 0.5466 - val_loss: 2.2266\n",
            "Epoch 43/50\n",
            "\u001b[1m1563/1563\u001b[0m \u001b[32m━━━━━━━━━━━━━━━━━━━━\u001b[0m\u001b[37m\u001b[0m \u001b[1m54s\u001b[0m 34ms/step - accuracy: 0.7912 - loss: 0.6818 - val_accuracy: 0.5478 - val_loss: 2.1813\n",
            "Epoch 44/50\n",
            "\u001b[1m1563/1563\u001b[0m \u001b[32m━━━━━━━━━━━━━━━━━━━━\u001b[0m\u001b[37m\u001b[0m \u001b[1m54s\u001b[0m 34ms/step - accuracy: 0.7934 - loss: 0.6674 - val_accuracy: 0.5756 - val_loss: 1.9979\n",
            "Epoch 45/50\n",
            "\u001b[1m1563/1563\u001b[0m \u001b[32m━━━━━━━━━━━━━━━━━━━━\u001b[0m\u001b[37m\u001b[0m \u001b[1m81s\u001b[0m 34ms/step - accuracy: 0.8034 - loss: 0.6402 - val_accuracy: 0.5492 - val_loss: 2.1754\n",
            "Epoch 46/50\n",
            "\u001b[1m1563/1563\u001b[0m \u001b[32m━━━━━━━━━━━━━━━━━━━━\u001b[0m\u001b[37m\u001b[0m \u001b[1m84s\u001b[0m 35ms/step - accuracy: 0.8069 - loss: 0.6217 - val_accuracy: 0.5641 - val_loss: 2.1335\n",
            "Epoch 47/50\n",
            "\u001b[1m1563/1563\u001b[0m \u001b[32m━━━━━━━━━━━━━━━━━━━━\u001b[0m\u001b[37m\u001b[0m \u001b[1m80s\u001b[0m 34ms/step - accuracy: 0.8045 - loss: 0.6253 - val_accuracy: 0.5562 - val_loss: 2.1821\n",
            "Epoch 48/50\n",
            "\u001b[1m1563/1563\u001b[0m \u001b[32m━━━━━━━━━━━━━━━━━━━━\u001b[0m\u001b[37m\u001b[0m \u001b[1m53s\u001b[0m 34ms/step - accuracy: 0.8111 - loss: 0.6148 - val_accuracy: 0.5578 - val_loss: 2.1870\n",
            "Epoch 49/50\n",
            "\u001b[1m1563/1563\u001b[0m \u001b[32m━━━━━━━━━━━━━━━━━━━━\u001b[0m\u001b[37m\u001b[0m \u001b[1m83s\u001b[0m 34ms/step - accuracy: 0.8150 - loss: 0.6020 - val_accuracy: 0.5790 - val_loss: 2.0546\n",
            "Epoch 50/50\n",
            "\u001b[1m1563/1563\u001b[0m \u001b[32m━━━━━━━━━━━━━━━━━━━━\u001b[0m\u001b[37m\u001b[0m \u001b[1m54s\u001b[0m 34ms/step - accuracy: 0.8178 - loss: 0.5937 - val_accuracy: 0.5664 - val_loss: 2.1463\n"
          ]
        },
        {
          "output_type": "execute_result",
          "data": {
            "text/plain": [
              "<keras.src.callbacks.history.History at 0x7839b014e650>"
            ]
          },
          "metadata": {},
          "execution_count": 13
        }
      ]
    },
    {
      "cell_type": "code",
      "source": [
        "# Evaluate on test data\n",
        "test_loss, test_accuracy = model_rn50.evaluate(X_test, y_test, verbose=2)\n",
        "print(f\"Test Accuracy: {test_accuracy * 100:.2f}%\")\n"
      ],
      "metadata": {
        "colab": {
          "base_uri": "https://localhost:8080/"
        },
        "id": "jRSU0E_DCUWC",
        "outputId": "7e3aa04e-0e76-4f7f-bb9b-1772110711a5"
      },
      "execution_count": 16,
      "outputs": [
        {
          "output_type": "stream",
          "name": "stdout",
          "text": [
            "313/313 - 2s - 7ms/step - accuracy: 0.5664 - loss: 2.1463\n",
            "Test Accuracy: 56.64%\n"
          ]
        }
      ]
    },
    {
      "cell_type": "code",
      "source": [
        "# Predictions\n",
        "y_pred = model_rn50.predict(X_test)\n",
        "y_pred_classes = np.argmax(y_pred, axis=1)\n",
        "y_true_classes = np.argmax(y_test, axis=1)\n",
        "\n",
        "# Classification Report\n",
        "print(\"Classification Report:\")\n",
        "print(classification_report(y_true_classes, y_pred_classes, target_names=class_names))"
      ],
      "metadata": {
        "colab": {
          "base_uri": "https://localhost:8080/"
        },
        "id": "R16qfXAAbK_b",
        "outputId": "470616ff-4e4c-449d-c2bd-b2802ef77dbd"
      },
      "execution_count": 18,
      "outputs": [
        {
          "output_type": "stream",
          "name": "stdout",
          "text": [
            "\u001b[1m313/313\u001b[0m \u001b[32m━━━━━━━━━━━━━━━━━━━━\u001b[0m\u001b[37m\u001b[0m \u001b[1m9s\u001b[0m 19ms/step\n",
            "Classification Report:\n",
            "               precision    recall  f1-score   support\n",
            "\n",
            "        apple       0.83      0.79      0.81       100\n",
            "aquarium_fish       0.68      0.63      0.65       100\n",
            "         baby       0.43      0.44      0.44       100\n",
            "         bear       0.47      0.25      0.33       100\n",
            "       beaver       0.36      0.35      0.36       100\n",
            "          bed       0.76      0.65      0.70       100\n",
            "          bee       0.66      0.57      0.61       100\n",
            "       beetle       0.47      0.64      0.54       100\n",
            "      bicycle       0.44      0.78      0.56       100\n",
            "       bottle       0.76      0.66      0.71       100\n",
            "         bowl       0.51      0.43      0.46       100\n",
            "          boy       0.36      0.43      0.39       100\n",
            "       bridge       0.64      0.61      0.62       100\n",
            "          bus       0.47      0.51      0.49       100\n",
            "    butterfly       0.32      0.72      0.45       100\n",
            "        camel       0.54      0.48      0.51       100\n",
            "          can       0.59      0.64      0.62       100\n",
            "       castle       0.76      0.72      0.74       100\n",
            "  caterpillar       0.50      0.59      0.54       100\n",
            "       cattle       0.45      0.47      0.46       100\n",
            "        chair       0.68      0.82      0.75       100\n",
            "   chimpanzee       0.75      0.71      0.73       100\n",
            "        clock       0.43      0.61      0.50       100\n",
            "        cloud       0.80      0.70      0.74       100\n",
            "    cockroach       0.86      0.69      0.77       100\n",
            "        couch       0.57      0.49      0.53       100\n",
            "         crab       0.37      0.60      0.45       100\n",
            "    crocodile       0.29      0.25      0.27       100\n",
            "          cup       0.68      0.65      0.66       100\n",
            "     dinosaur       0.56      0.58      0.57       100\n",
            "      dolphin       0.66      0.45      0.54       100\n",
            "     elephant       0.83      0.49      0.62       100\n",
            "     flatfish       0.66      0.45      0.54       100\n",
            "       forest       0.48      0.58      0.52       100\n",
            "          fox       0.62      0.55      0.58       100\n",
            "         girl       0.40      0.32      0.35       100\n",
            "      hamster       0.84      0.52      0.64       100\n",
            "        house       0.52      0.63      0.57       100\n",
            "     kangaroo       0.62      0.34      0.44       100\n",
            "     keyboard       0.52      0.89      0.65       100\n",
            "         lamp       0.64      0.42      0.51       100\n",
            "   lawn_mower       0.74      0.67      0.71       100\n",
            "      leopard       0.32      0.70      0.43       100\n",
            "         lion       0.64      0.49      0.55       100\n",
            "       lizard       0.27      0.31      0.29       100\n",
            "      lobster       0.42      0.34      0.38       100\n",
            "          man       0.45      0.30      0.36       100\n",
            "   maple_tree       0.63      0.55      0.59       100\n",
            "   motorcycle       0.53      0.89      0.67       100\n",
            "     mountain       0.70      0.82      0.76       100\n",
            "        mouse       0.43      0.36      0.39       100\n",
            "     mushroom       0.44      0.57      0.50       100\n",
            "     oak_tree       0.48      0.77      0.59       100\n",
            "       orange       0.72      0.93      0.81       100\n",
            "       orchid       0.77      0.59      0.67       100\n",
            "        otter       0.41      0.24      0.30       100\n",
            "    palm_tree       0.95      0.74      0.83       100\n",
            "         pear       0.75      0.64      0.69       100\n",
            " pickup_truck       0.79      0.62      0.70       100\n",
            "    pine_tree       0.56      0.65      0.60       100\n",
            "        plain       0.75      0.80      0.78       100\n",
            "        plate       0.57      0.66      0.61       100\n",
            "        poppy       0.57      0.54      0.55       100\n",
            "    porcupine       0.45      0.70      0.55       100\n",
            "       possum       0.57      0.26      0.36       100\n",
            "       rabbit       0.54      0.37      0.44       100\n",
            "      raccoon       0.40      0.50      0.45       100\n",
            "          ray       0.70      0.37      0.48       100\n",
            "         road       0.90      0.78      0.83       100\n",
            "       rocket       0.82      0.70      0.76       100\n",
            "         rose       0.52      0.67      0.59       100\n",
            "          sea       0.80      0.61      0.69       100\n",
            "         seal       0.32      0.21      0.25       100\n",
            "        shark       0.54      0.45      0.49       100\n",
            "        shrew       0.39      0.47      0.43       100\n",
            "        skunk       0.75      0.76      0.76       100\n",
            "   skyscraper       0.86      0.81      0.84       100\n",
            "        snail       0.60      0.41      0.49       100\n",
            "        snake       0.34      0.53      0.42       100\n",
            "       spider       0.78      0.46      0.58       100\n",
            "     squirrel       0.55      0.23      0.32       100\n",
            "    streetcar       0.44      0.67      0.53       100\n",
            "    sunflower       0.85      0.86      0.86       100\n",
            " sweet_pepper       0.62      0.53      0.57       100\n",
            "        table       0.60      0.49      0.54       100\n",
            "         tank       0.64      0.72      0.68       100\n",
            "    telephone       0.63      0.69      0.66       100\n",
            "   television       0.61      0.71      0.65       100\n",
            "        tiger       0.44      0.51      0.47       100\n",
            "      tractor       0.52      0.63      0.57       100\n",
            "        train       0.64      0.61      0.63       100\n",
            "        trout       0.75      0.69      0.72       100\n",
            "        tulip       0.49      0.46      0.47       100\n",
            "       turtle       0.36      0.31      0.33       100\n",
            "     wardrobe       0.75      0.78      0.76       100\n",
            "        whale       0.68      0.73      0.70       100\n",
            "  willow_tree       0.65      0.33      0.44       100\n",
            "         wolf       0.77      0.43      0.55       100\n",
            "        woman       0.34      0.21      0.26       100\n",
            "         worm       0.54      0.71      0.61       100\n",
            "\n",
            "     accuracy                           0.57     10000\n",
            "    macro avg       0.59      0.57      0.56     10000\n",
            " weighted avg       0.59      0.57      0.56     10000\n",
            "\n"
          ]
        }
      ]
    },
    {
      "cell_type": "markdown",
      "source": [
        "# Classification Report for ResNet-50\n",
        "\n",
        "### **Classification Metrics**\n",
        "| Class            | Precision | Recall | F1-Score | Support |\n",
        "|------------------|-----------|--------|----------|---------|\n",
        "| apple            | 0.83      | 0.79   | 0.81     | 100     |\n",
        "| aquarium_fish    | 0.68      | 0.63   | 0.65     | 100     |\n",
        "| baby             | 0.43      | 0.44   | 0.44     | 100     |\n",
        "| bear             | 0.47      | 0.25   | 0.33     | 100     |\n",
        "| ... (truncated for brevity) ... |\n",
        "| wolf             | 0.77      | 0.43   | 0.55     | 100     |\n",
        "| woman            | 0.34      | 0.21   | 0.26     | 100     |\n",
        "| worm             | 0.54      | 0.71   | 0.61     | 100     |\n",
        "\n",
        "---\n",
        "\n",
        "### **Overall Accuracy**\n",
        "- **Accuracy**: 57%\n",
        "- **Macro Average**:\n",
        "  - Precision: 0.59\n",
        "  - Recall: 0.57\n",
        "  - F1-Score: 0.56\n",
        "- **Weighted Average**:\n",
        "  - Precision: 0.59\n",
        "  - Recall: 0.57\n",
        "  - F1-Score: 0.56\n",
        "\n",
        "---\n",
        "\n",
        "### **Interpretation of Results**\n",
        "1. **Strengths**:\n",
        "   - Certain classes, such as *apple*, *sunflower*, and *wardrobe*, achieved **high precision and recall** (over 75% in most cases), indicating that the model performs well on these categories.\n",
        "   - Classes with distinctive features (e.g., *motorcycle*, *chair*, and *road*) also exhibit high F1-scores.\n",
        "\n",
        "2. **Weaknesses**:\n",
        "   - The model struggles with classes like *woman*, *bear*, *squirrel*, and *crocodile*, achieving **low recall and F1-scores**, indicating difficulty in correctly identifying these categories.\n",
        "   - Some similar-looking classes (e.g., *dolphin* and *flatfish*) show reduced performance, possibly due to class overlap or feature similarities.\n",
        "\n",
        "3. **Imbalance in Performance**:\n",
        "   - The classification metrics vary significantly across classes, with some achieving high F1-scores while others remain below 0.5.\n",
        "   - This indicates the model may not be equally adept at recognizing all categories, potentially due to insufficient feature extraction or ambiguous class boundaries.\n",
        "\n",
        "---\n",
        "\n",
        "### **Potential Improvements**\n",
        "1. **Data Augmentation**:\n",
        "   - Introduce data augmentation techniques (e.g., rotation, flipping, cropping) to enhance diversity in the dataset and improve feature learning.\n",
        "\n",
        "2. **Class Imbalance**:\n",
        "   - Use **class weights** in the loss function or **oversampling** methods to give underperforming classes more importance during training.\n",
        "\n",
        "3. **Fine-Tuning the Model**:\n",
        "   - Fine-tune the ResNet-50 model on the CIFAR-100 dataset with a **lower learning rate** and additional training epochs.\n",
        "   - Experiment with freezing fewer layers of the base model to allow better adaptation to the dataset.\n",
        "\n",
        "4. **Regularization Techniques**:\n",
        "   - Apply **dropout**, **batch normalization**, or **weight decay** to prevent overfitting and improve generalization.\n",
        "\n",
        "5. **Custom Architecture**:\n",
        "   - Add **attention mechanisms** (e.g., SE blocks) to focus on salient features in the image.\n",
        "   - Experiment with **hybrid models** that combine convolutional layers with transformer layers for better feature extraction.\n",
        "\n",
        "6. **Hyperparameter Tuning**:\n",
        "   - Adjust learning rates, batch sizes, and optimizers (e.g., SGD with momentum, AdamW) to improve convergence.\n",
        "\n",
        "---\n",
        "\n",
        "### **Limitations**\n",
        "1. **Small Input Size**:\n",
        "   - CIFAR-100 images are small (32x32 pixels), which may limit the ability of ResNet-50 to extract detailed features. Consider resizing images or using models better suited for small input sizes.\n",
        "   \n",
        "2. **Ambiguity in Labels**:\n",
        "   - Some categories in CIFAR-100 may have overlapping features, making it inherently difficult to classify certain classes accurately.\n",
        "\n",
        "3. **Baseline Model**:\n",
        "   - While ResNet-50 is a robust architecture, exploring other state-of-the-art models like EfficientNet or Vision Transformers may yield better results for CIFAR-100.\n",
        "\n",
        "---\n",
        "\n",
        "### **Conclusion**\n",
        "The ResNet-50 model achieved **57% overall accuracy** on the CIFAR-100 dataset, demonstrating moderate performance. While it excels in certain categories with distinctive features, it struggles with ambiguous or similar-looking classes. Future efforts should focus on data augmentation, fine-tuning, and exploring alternative architectures to improve performance.\n"
      ],
      "metadata": {
        "id": "93vhWbMRcTkU"
      }
    },
    {
      "cell_type": "code",
      "source": [],
      "metadata": {
        "id": "qzF4Xj7qeCkA"
      },
      "execution_count": null,
      "outputs": []
    }
  ]
}